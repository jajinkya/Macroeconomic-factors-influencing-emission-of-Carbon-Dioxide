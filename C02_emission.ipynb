{
  "nbformat": 4,
  "nbformat_minor": 0,
  "metadata": {
    "colab": {
      "name": "C02_emission",
      "provenance": [],
      "mount_file_id": "1f0oUKgev1SYRsrs58k04QhKqvXKLMXME",
      "authorship_tag": "ABX9TyPAWyJUfzhVi43g61/evQXx",
      "include_colab_link": true
    },
    "kernelspec": {
      "name": "python3",
      "display_name": "Python 3"
    }
  },
  "cells": [
    {
      "cell_type": "markdown",
      "metadata": {
        "id": "view-in-github",
        "colab_type": "text"
      },
      "source": [
        "<a href=\"https://colab.research.google.com/github/jajinkya/Macroeconomic-factors-influencing-emission-of-Carbon-Dioxide/blob/main/C02_emission.ipynb\" target=\"_parent\"><img src=\"https://colab.research.google.com/assets/colab-badge.svg\" alt=\"Open In Colab\"/></a>"
      ]
    },
    {
      "cell_type": "markdown",
      "metadata": {
        "id": "Skan2yJX3CYK"
      },
      "source": [
        "### Data Retrieval and Basic Operations"
      ]
    },
    {
      "cell_type": "code",
      "metadata": {
        "id": "ORJhDiqlgdqw",
        "outputId": "293d5b80-75b1-4c8f-935c-9832c0a34515",
        "colab": {
          "base_uri": "https://localhost:8080/"
        }
      },
      "source": [
        "cd \"/content/drive/My Drive/Global Warming/co2_prediction\""
      ],
      "execution_count": null,
      "outputs": [
        {
          "output_type": "stream",
          "text": [
            "/content/drive/My Drive/Global Warming/co2_prediction\n"
          ],
          "name": "stdout"
        }
      ]
    },
    {
      "cell_type": "code",
      "metadata": {
        "id": "bh2TOrvw2xbe",
        "outputId": "54276a56-4746-474f-f09c-b5921fd02da9",
        "colab": {
          "base_uri": "https://localhost:8080/"
        }
      },
      "source": [
        "#import required library\n",
        "import pandas as pd  \n",
        "import numpy as np\n",
        "import os\n",
        "import matplotlib.pyplot as plt\n",
        "import seaborn as sns\n",
        "%matplotlib inline"
      ],
      "execution_count": null,
      "outputs": [
        {
          "output_type": "stream",
          "text": [
            "/usr/local/lib/python3.6/dist-packages/statsmodels/tools/_testing.py:19: FutureWarning: pandas.util.testing is deprecated. Use the functions in the public API at pandas.testing instead.\n",
            "  import pandas.util.testing as tm\n"
          ],
          "name": "stderr"
        }
      ]
    },
    {
      "cell_type": "code",
      "metadata": {
        "id": "rtm9OD0zpRzv"
      },
      "source": [
        "root_folder = \"/content/drive/My Drive/Global Warming/co2_prediction/\"\n",
        "\n",
        "def read_merge_csv(root_folder, year=\"2014\"):\n",
        "  dfs=[]\n",
        "\n",
        "  for subdir, dir, files in os.walk(root_folder): \n",
        "    for file in files:\n",
        "      filename = file.split(\".\")[0]            # prepare name for column\n",
        "      df = pd.read_csv(root_folder+str(file))\n",
        "      df.columns.values[0] = \"geo\"\n",
        "\n",
        "      # considering only csv's having more than 50 countries\n",
        "\n",
        "      if year in df.columns and df.shape[0]>50:\n",
        "        df = df[[\"geo\", year]]\n",
        "        df.columns = [\"geo\", filename]\n",
        "        dfs.append(df)\n",
        "\n",
        "  # merge all files using key geo\n",
        "\n",
        "  master_df = dfs[0]\n",
        "\n",
        "  for i in range(len(dfs)-1):\n",
        "    master_df = pd.merge(master_df, dfs[i+1], how=\"inner\", \n",
        "                         left_on=\"geo\",right_on=\"geo\")\n",
        "\n",
        "  return master_df"
      ],
      "execution_count": null,
      "outputs": []
    },
    {
      "cell_type": "code",
      "metadata": {
        "id": "pw34C7EvmVLy",
        "outputId": "fc0284ea-3e58-43f0-e822-a0fc348c9af0",
        "colab": {
          "base_uri": "https://localhost:8080/"
        }
      },
      "source": [
        "emission = read_merge_csv(root_folder)\n",
        "emission.head()"
      ],
      "execution_count": null,
      "outputs": [
        {
          "output_type": "execute_result",
          "data": {
            "text/html": [
              "<div>\n",
              "<style scoped>\n",
              "    .dataframe tbody tr th:only-of-type {\n",
              "        vertical-align: middle;\n",
              "    }\n",
              "\n",
              "    .dataframe tbody tr th {\n",
              "        vertical-align: top;\n",
              "    }\n",
              "\n",
              "    .dataframe thead th {\n",
              "        text-align: right;\n",
              "    }\n",
              "</style>\n",
              "<table border=\"1\" class=\"dataframe\">\n",
              "  <thead>\n",
              "    <tr style=\"text-align: right;\">\n",
              "      <th></th>\n",
              "      <th>geo</th>\n",
              "      <th>co2_emissions_tonnes_per_person</th>\n",
              "      <th>income_per_person_gdppercapita_ppp_inflation_adjusted</th>\n",
              "      <th>forest_coverage_percent</th>\n",
              "      <th>industry_percent_of_gdp</th>\n",
              "      <th>coal_consumption_per_cap</th>\n",
              "      <th>electricity_use_per_person</th>\n",
              "      <th>oil_consumption_per_cap</th>\n",
              "      <th>electricity_generation_per_person</th>\n",
              "      <th>yearly_co2_emissions_1000_tonnes</th>\n",
              "      <th>market_value_of_listed_companies_percent_of_gdp</th>\n",
              "      <th>exports_percent_of_gdp</th>\n",
              "      <th>imports_percent_of_gdp</th>\n",
              "      <th>eg_use_comm_cl_zs</th>\n",
              "      <th>population_total</th>\n",
              "    </tr>\n",
              "  </thead>\n",
              "  <tbody>\n",
              "    <tr>\n",
              "      <th>0</th>\n",
              "      <td>Algeria</td>\n",
              "      <td>3.72</td>\n",
              "      <td>13500</td>\n",
              "      <td>0.82</td>\n",
              "      <td>42.3</td>\n",
              "      <td>0.00458</td>\n",
              "      <td>1360.0</td>\n",
              "      <td>0.452</td>\n",
              "      <td>1640</td>\n",
              "      <td>145000.0</td>\n",
              "      <td>0.000787</td>\n",
              "      <td>0.302</td>\n",
              "      <td>0.319</td>\n",
              "      <td>0.0301</td>\n",
              "      <td>38900000</td>\n",
              "    </tr>\n",
              "    <tr>\n",
              "      <th>1</th>\n",
              "      <td>Argentina</td>\n",
              "      <td>4.75</td>\n",
              "      <td>18800</td>\n",
              "      <td>10.00</td>\n",
              "      <td>24.3</td>\n",
              "      <td>0.03460</td>\n",
              "      <td>3050.0</td>\n",
              "      <td>0.729</td>\n",
              "      <td>3290</td>\n",
              "      <td>204000.0</td>\n",
              "      <td>0.114000</td>\n",
              "      <td>0.144</td>\n",
              "      <td>0.140</td>\n",
              "      <td>5.5000</td>\n",
              "      <td>42600000</td>\n",
              "    </tr>\n",
              "    <tr>\n",
              "      <th>2</th>\n",
              "      <td>Australia</td>\n",
              "      <td>15.40</td>\n",
              "      <td>43400</td>\n",
              "      <td>16.20</td>\n",
              "      <td>25.4</td>\n",
              "      <td>1.82000</td>\n",
              "      <td>10100.0</td>\n",
              "      <td>2.050</td>\n",
              "      <td>10500</td>\n",
              "      <td>361000.0</td>\n",
              "      <td>0.878000</td>\n",
              "      <td>0.210</td>\n",
              "      <td>0.215</td>\n",
              "      <td>2.3700</td>\n",
              "      <td>23600000</td>\n",
              "    </tr>\n",
              "    <tr>\n",
              "      <th>3</th>\n",
              "      <td>Austria</td>\n",
              "      <td>6.80</td>\n",
              "      <td>44100</td>\n",
              "      <td>46.90</td>\n",
              "      <td>25.4</td>\n",
              "      <td>0.34700</td>\n",
              "      <td>8360.0</td>\n",
              "      <td>1.440</td>\n",
              "      <td>7540</td>\n",
              "      <td>58700.0</td>\n",
              "      <td>0.219000</td>\n",
              "      <td>0.534</td>\n",
              "      <td>0.501</td>\n",
              "      <td>13.2000</td>\n",
              "      <td>8620000</td>\n",
              "    </tr>\n",
              "    <tr>\n",
              "      <th>4</th>\n",
              "      <td>Azerbaijan</td>\n",
              "      <td>3.94</td>\n",
              "      <td>16700</td>\n",
              "      <td>13.50</td>\n",
              "      <td>53.6</td>\n",
              "      <td>0.00017</td>\n",
              "      <td>2200.0</td>\n",
              "      <td>0.468</td>\n",
              "      <td>2600</td>\n",
              "      <td>37500.0</td>\n",
              "      <td>NaN</td>\n",
              "      <td>0.433</td>\n",
              "      <td>0.262</td>\n",
              "      <td>0.5720</td>\n",
              "      <td>9510000</td>\n",
              "    </tr>\n",
              "  </tbody>\n",
              "</table>\n",
              "</div>"
            ],
            "text/plain": [
              "          geo  ...  population_total\n",
              "0     Algeria  ...          38900000\n",
              "1   Argentina  ...          42600000\n",
              "2   Australia  ...          23600000\n",
              "3     Austria  ...           8620000\n",
              "4  Azerbaijan  ...           9510000\n",
              "\n",
              "[5 rows x 15 columns]"
            ]
          },
          "metadata": {
            "tags": []
          },
          "execution_count": 4
        }
      ]
    },
    {
      "cell_type": "code",
      "metadata": {
        "id": "zpQyrGmamZ6t",
        "outputId": "51499df3-2d1c-4745-dd4d-7d9b01c7eae0",
        "colab": {
          "base_uri": "https://localhost:8080/"
        }
      },
      "source": [
        "emission.shape"
      ],
      "execution_count": null,
      "outputs": [
        {
          "output_type": "execute_result",
          "data": {
            "text/plain": [
              "(61, 15)"
            ]
          },
          "metadata": {
            "tags": []
          },
          "execution_count": 5
        }
      ]
    },
    {
      "cell_type": "code",
      "metadata": {
        "id": "lxAGI-xT16Hz",
        "outputId": "4eddecb1-f829-4a42-e6b7-5b3ee550bb72",
        "colab": {
          "base_uri": "https://localhost:8080/"
        }
      },
      "source": [
        "emission.info()"
      ],
      "execution_count": null,
      "outputs": [
        {
          "output_type": "stream",
          "text": [
            "<class 'pandas.core.frame.DataFrame'>\n",
            "Int64Index: 61 entries, 0 to 60\n",
            "Data columns (total 15 columns):\n",
            " #   Column                                                 Non-Null Count  Dtype  \n",
            "---  ------                                                 --------------  -----  \n",
            " 0   geo                                                    61 non-null     object \n",
            " 1   co2_emissions_tonnes_per_person                        61 non-null     float64\n",
            " 2   income_per_person_gdppercapita_ppp_inflation_adjusted  61 non-null     int64  \n",
            " 3   forest_coverage_percent                                61 non-null     float64\n",
            " 4   industry_percent_of_gdp                                61 non-null     float64\n",
            " 5   coal_consumption_per_cap                               61 non-null     float64\n",
            " 6   electricity_use_per_person                             61 non-null     float64\n",
            " 7   oil_consumption_per_cap                                61 non-null     float64\n",
            " 8   electricity_generation_per_person                      61 non-null     int64  \n",
            " 9   yearly_co2_emissions_1000_tonnes                       61 non-null     float64\n",
            " 10  market_value_of_listed_companies_percent_of_gdp        45 non-null     float64\n",
            " 11  exports_percent_of_gdp                                 61 non-null     float64\n",
            " 12  imports_percent_of_gdp                                 61 non-null     float64\n",
            " 13  eg_use_comm_cl_zs                                      59 non-null     float64\n",
            " 14  population_total                                       61 non-null     int64  \n",
            "dtypes: float64(11), int64(3), object(1)\n",
            "memory usage: 7.6+ KB\n"
          ],
          "name": "stdout"
        }
      ]
    },
    {
      "cell_type": "markdown",
      "metadata": {
        "id": "HpCA28PKVk4M"
      },
      "source": [
        "Most of the columns don't have any missing values except `market_value_of_listed_companies_percent_of_gdp ` and `eg_use_comm_cl_zs` which is 16 and 2 respectively. "
      ]
    },
    {
      "cell_type": "code",
      "metadata": {
        "id": "L9z-lwru5FTW",
        "outputId": "797bd909-1f51-406c-df60-f3ffadadaf8e",
        "colab": {
          "base_uri": "https://localhost:8080/"
        }
      },
      "source": [
        "#countries name which has missing values for market_value_of_listed_companies_percent_of_gdp \n",
        "country = emission[['geo']][emission['market_value_of_listed_companies_percent_of_gdp'].isnull()]\n",
        "country"
      ],
      "execution_count": null,
      "outputs": [
        {
          "output_type": "execute_result",
          "data": {
            "text/html": [
              "<div>\n",
              "<style scoped>\n",
              "    .dataframe tbody tr th:only-of-type {\n",
              "        vertical-align: middle;\n",
              "    }\n",
              "\n",
              "    .dataframe tbody tr th {\n",
              "        vertical-align: top;\n",
              "    }\n",
              "\n",
              "    .dataframe thead th {\n",
              "        text-align: right;\n",
              "    }\n",
              "</style>\n",
              "<table border=\"1\" class=\"dataframe\">\n",
              "  <thead>\n",
              "    <tr style=\"text-align: right;\">\n",
              "      <th></th>\n",
              "      <th>geo</th>\n",
              "    </tr>\n",
              "  </thead>\n",
              "  <tbody>\n",
              "    <tr>\n",
              "      <th>4</th>\n",
              "      <td>Azerbaijan</td>\n",
              "    </tr>\n",
              "    <tr>\n",
              "      <th>5</th>\n",
              "      <td>Bangladesh</td>\n",
              "    </tr>\n",
              "    <tr>\n",
              "      <th>6</th>\n",
              "      <td>Belarus</td>\n",
              "    </tr>\n",
              "    <tr>\n",
              "      <th>9</th>\n",
              "      <td>Bulgaria</td>\n",
              "    </tr>\n",
              "    <tr>\n",
              "      <th>14</th>\n",
              "      <td>Czech Republic</td>\n",
              "    </tr>\n",
              "    <tr>\n",
              "      <th>15</th>\n",
              "      <td>Denmark</td>\n",
              "    </tr>\n",
              "    <tr>\n",
              "      <th>16</th>\n",
              "      <td>Ecuador</td>\n",
              "    </tr>\n",
              "    <tr>\n",
              "      <th>18</th>\n",
              "      <td>Finland</td>\n",
              "    </tr>\n",
              "    <tr>\n",
              "      <th>28</th>\n",
              "      <td>Italy</td>\n",
              "    </tr>\n",
              "    <tr>\n",
              "      <th>31</th>\n",
              "      <td>Kuwait</td>\n",
              "    </tr>\n",
              "    <tr>\n",
              "      <th>43</th>\n",
              "      <td>Romania</td>\n",
              "    </tr>\n",
              "    <tr>\n",
              "      <th>47</th>\n",
              "      <td>Slovak Republic</td>\n",
              "    </tr>\n",
              "    <tr>\n",
              "      <th>51</th>\n",
              "      <td>Sweden</td>\n",
              "    </tr>\n",
              "    <tr>\n",
              "      <th>55</th>\n",
              "      <td>Ukraine</td>\n",
              "    </tr>\n",
              "    <tr>\n",
              "      <th>57</th>\n",
              "      <td>United Kingdom</td>\n",
              "    </tr>\n",
              "    <tr>\n",
              "      <th>59</th>\n",
              "      <td>Venezuela</td>\n",
              "    </tr>\n",
              "  </tbody>\n",
              "</table>\n",
              "</div>"
            ],
            "text/plain": [
              "                geo\n",
              "4        Azerbaijan\n",
              "5        Bangladesh\n",
              "6           Belarus\n",
              "9          Bulgaria\n",
              "14   Czech Republic\n",
              "15          Denmark\n",
              "16          Ecuador\n",
              "18          Finland\n",
              "28            Italy\n",
              "31           Kuwait\n",
              "43          Romania\n",
              "47  Slovak Republic\n",
              "51           Sweden\n",
              "55          Ukraine\n",
              "57   United Kingdom\n",
              "59        Venezuela"
            ]
          },
          "metadata": {
            "tags": []
          },
          "execution_count": 7
        }
      ]
    },
    {
      "cell_type": "code",
      "metadata": {
        "id": "MUFLTPeq5b7A",
        "outputId": "0c656997-2e1d-45f9-af14-f47482387280",
        "colab": {
          "base_uri": "https://localhost:8080/"
        }
      },
      "source": [
        "# count of countries which don't have missing values for market_value_of_listed_companies_percent_of_gdp \n",
        "emission[['geo','co2_emissions_tonnes_per_person']][~emission['market_value_of_listed_companies_percent_of_gdp'].isnull()].shape"
      ],
      "execution_count": null,
      "outputs": [
        {
          "output_type": "execute_result",
          "data": {
            "text/plain": [
              "(45, 2)"
            ]
          },
          "metadata": {
            "tags": []
          },
          "execution_count": 8
        }
      ]
    },
    {
      "cell_type": "markdown",
      "metadata": {
        "id": "ycoar9rX4kCk"
      },
      "source": [
        "Handling of Missing Value"
      ]
    },
    {
      "cell_type": "markdown",
      "metadata": {
        "id": "OcmO56YL4uxi"
      },
      "source": [
        "As our size of data is already small we can't drop the rows of which any one of the feature has missing values. So we need to choose suitable imputation method to fill those missing values. And for that we can use [`sklearn.impute()`](https://scikit-learn.org/stable/modules/impute.html#impute) method. In this we are using `IterativeImputer` method to fill missing values. \n",
        "\n"
      ]
    },
    {
      "cell_type": "code",
      "metadata": {
        "id": "M676knwPBVNw"
      },
      "source": [
        "# import required imputation library\n",
        "from sklearn.experimental import enable_iterative_imputer\n",
        "from sklearn.impute import IterativeImputer\n",
        "from sklearn.neighbors import KNeighborsRegressor # model to impute the values"
      ],
      "execution_count": null,
      "outputs": []
    },
    {
      "cell_type": "code",
      "metadata": {
        "id": "DhVXmgbUjlnl",
        "outputId": "fe4b3b16-5eab-4540-88f5-2bacc47b54ad",
        "colab": {
          "base_uri": "https://localhost:8080/"
        }
      },
      "source": [
        "imputing_data = emission.drop(['geo','co2_emissions_tonnes_per_person'], axis=1,) \n",
        "kn_reg = KNeighborsRegressor(weights='distance') # model instatiation\n",
        "imputer = IterativeImputer(estimator= kn_reg, missing_values= np.nan, random_state=0) # instantiation of imputer \n",
        "imputed_data = pd.DataFrame(imputer.fit_transform(imputing_data), columns= imputing_data.columns)\n",
        "imputed_data.head()"
      ],
      "execution_count": null,
      "outputs": [
        {
          "output_type": "execute_result",
          "data": {
            "text/html": [
              "<div>\n",
              "<style scoped>\n",
              "    .dataframe tbody tr th:only-of-type {\n",
              "        vertical-align: middle;\n",
              "    }\n",
              "\n",
              "    .dataframe tbody tr th {\n",
              "        vertical-align: top;\n",
              "    }\n",
              "\n",
              "    .dataframe thead th {\n",
              "        text-align: right;\n",
              "    }\n",
              "</style>\n",
              "<table border=\"1\" class=\"dataframe\">\n",
              "  <thead>\n",
              "    <tr style=\"text-align: right;\">\n",
              "      <th></th>\n",
              "      <th>income_per_person_gdppercapita_ppp_inflation_adjusted</th>\n",
              "      <th>forest_coverage_percent</th>\n",
              "      <th>industry_percent_of_gdp</th>\n",
              "      <th>coal_consumption_per_cap</th>\n",
              "      <th>electricity_use_per_person</th>\n",
              "      <th>oil_consumption_per_cap</th>\n",
              "      <th>electricity_generation_per_person</th>\n",
              "      <th>yearly_co2_emissions_1000_tonnes</th>\n",
              "      <th>market_value_of_listed_companies_percent_of_gdp</th>\n",
              "      <th>exports_percent_of_gdp</th>\n",
              "      <th>imports_percent_of_gdp</th>\n",
              "      <th>eg_use_comm_cl_zs</th>\n",
              "      <th>population_total</th>\n",
              "    </tr>\n",
              "  </thead>\n",
              "  <tbody>\n",
              "    <tr>\n",
              "      <th>0</th>\n",
              "      <td>13500.0</td>\n",
              "      <td>0.82</td>\n",
              "      <td>42.3</td>\n",
              "      <td>0.00458</td>\n",
              "      <td>1360.0</td>\n",
              "      <td>0.452</td>\n",
              "      <td>1640.0</td>\n",
              "      <td>145000.0</td>\n",
              "      <td>0.000787</td>\n",
              "      <td>0.302</td>\n",
              "      <td>0.319</td>\n",
              "      <td>0.0301</td>\n",
              "      <td>38900000.0</td>\n",
              "    </tr>\n",
              "    <tr>\n",
              "      <th>1</th>\n",
              "      <td>18800.0</td>\n",
              "      <td>10.00</td>\n",
              "      <td>24.3</td>\n",
              "      <td>0.03460</td>\n",
              "      <td>3050.0</td>\n",
              "      <td>0.729</td>\n",
              "      <td>3290.0</td>\n",
              "      <td>204000.0</td>\n",
              "      <td>0.114000</td>\n",
              "      <td>0.144</td>\n",
              "      <td>0.140</td>\n",
              "      <td>5.5000</td>\n",
              "      <td>42600000.0</td>\n",
              "    </tr>\n",
              "    <tr>\n",
              "      <th>2</th>\n",
              "      <td>43400.0</td>\n",
              "      <td>16.20</td>\n",
              "      <td>25.4</td>\n",
              "      <td>1.82000</td>\n",
              "      <td>10100.0</td>\n",
              "      <td>2.050</td>\n",
              "      <td>10500.0</td>\n",
              "      <td>361000.0</td>\n",
              "      <td>0.878000</td>\n",
              "      <td>0.210</td>\n",
              "      <td>0.215</td>\n",
              "      <td>2.3700</td>\n",
              "      <td>23600000.0</td>\n",
              "    </tr>\n",
              "    <tr>\n",
              "      <th>3</th>\n",
              "      <td>44100.0</td>\n",
              "      <td>46.90</td>\n",
              "      <td>25.4</td>\n",
              "      <td>0.34700</td>\n",
              "      <td>8360.0</td>\n",
              "      <td>1.440</td>\n",
              "      <td>7540.0</td>\n",
              "      <td>58700.0</td>\n",
              "      <td>0.219000</td>\n",
              "      <td>0.534</td>\n",
              "      <td>0.501</td>\n",
              "      <td>13.2000</td>\n",
              "      <td>8620000.0</td>\n",
              "    </tr>\n",
              "    <tr>\n",
              "      <th>4</th>\n",
              "      <td>16700.0</td>\n",
              "      <td>13.50</td>\n",
              "      <td>53.6</td>\n",
              "      <td>0.00017</td>\n",
              "      <td>2200.0</td>\n",
              "      <td>0.468</td>\n",
              "      <td>2600.0</td>\n",
              "      <td>37500.0</td>\n",
              "      <td>0.269851</td>\n",
              "      <td>0.433</td>\n",
              "      <td>0.262</td>\n",
              "      <td>0.5720</td>\n",
              "      <td>9510000.0</td>\n",
              "    </tr>\n",
              "  </tbody>\n",
              "</table>\n",
              "</div>"
            ],
            "text/plain": [
              "   income_per_person_gdppercapita_ppp_inflation_adjusted  ...  population_total\n",
              "0                                            13500.0      ...        38900000.0\n",
              "1                                            18800.0      ...        42600000.0\n",
              "2                                            43400.0      ...        23600000.0\n",
              "3                                            44100.0      ...         8620000.0\n",
              "4                                            16700.0      ...         9510000.0\n",
              "\n",
              "[5 rows x 13 columns]"
            ]
          },
          "metadata": {
            "tags": []
          },
          "execution_count": 10
        }
      ]
    },
    {
      "cell_type": "code",
      "metadata": {
        "id": "veV8z11QjumV",
        "outputId": "75afbe8e-ae9e-4092-8888-d9b14f26bba3",
        "colab": {
          "base_uri": "https://localhost:8080/"
        }
      },
      "source": [
        "imputed_data.isnull().sum()"
      ],
      "execution_count": null,
      "outputs": [
        {
          "output_type": "execute_result",
          "data": {
            "text/plain": [
              "income_per_person_gdppercapita_ppp_inflation_adjusted    0\n",
              "forest_coverage_percent                                  0\n",
              "industry_percent_of_gdp                                  0\n",
              "coal_consumption_per_cap                                 0\n",
              "electricity_use_per_person                               0\n",
              "oil_consumption_per_cap                                  0\n",
              "electricity_generation_per_person                        0\n",
              "yearly_co2_emissions_1000_tonnes                         0\n",
              "market_value_of_listed_companies_percent_of_gdp          0\n",
              "exports_percent_of_gdp                                   0\n",
              "imports_percent_of_gdp                                   0\n",
              "eg_use_comm_cl_zs                                        0\n",
              "population_total                                         0\n",
              "dtype: int64"
            ]
          },
          "metadata": {
            "tags": []
          },
          "execution_count": 11
        }
      ]
    },
    {
      "cell_type": "code",
      "metadata": {
        "id": "wM41OzfKpAGN",
        "outputId": "e1e64ba6-75fa-43e3-b38b-dad0a0d1b9c5",
        "colab": {
          "base_uri": "https://localhost:8080/"
        }
      },
      "source": [
        "# add the imputed column to original dataset\n",
        "emission[[\"market_value_of_listed_companies_percent_of_gdp\", \"eg_use_comm_cl_zs\"]] = imputed_data[[\"market_value_of_listed_companies_percent_of_gdp\", \"eg_use_comm_cl_zs\"]]\n",
        "emission.head()"
      ],
      "execution_count": null,
      "outputs": [
        {
          "output_type": "execute_result",
          "data": {
            "text/html": [
              "<div>\n",
              "<style scoped>\n",
              "    .dataframe tbody tr th:only-of-type {\n",
              "        vertical-align: middle;\n",
              "    }\n",
              "\n",
              "    .dataframe tbody tr th {\n",
              "        vertical-align: top;\n",
              "    }\n",
              "\n",
              "    .dataframe thead th {\n",
              "        text-align: right;\n",
              "    }\n",
              "</style>\n",
              "<table border=\"1\" class=\"dataframe\">\n",
              "  <thead>\n",
              "    <tr style=\"text-align: right;\">\n",
              "      <th></th>\n",
              "      <th>geo</th>\n",
              "      <th>co2_emissions_tonnes_per_person</th>\n",
              "      <th>income_per_person_gdppercapita_ppp_inflation_adjusted</th>\n",
              "      <th>forest_coverage_percent</th>\n",
              "      <th>industry_percent_of_gdp</th>\n",
              "      <th>coal_consumption_per_cap</th>\n",
              "      <th>electricity_use_per_person</th>\n",
              "      <th>oil_consumption_per_cap</th>\n",
              "      <th>electricity_generation_per_person</th>\n",
              "      <th>yearly_co2_emissions_1000_tonnes</th>\n",
              "      <th>market_value_of_listed_companies_percent_of_gdp</th>\n",
              "      <th>exports_percent_of_gdp</th>\n",
              "      <th>imports_percent_of_gdp</th>\n",
              "      <th>eg_use_comm_cl_zs</th>\n",
              "      <th>population_total</th>\n",
              "    </tr>\n",
              "  </thead>\n",
              "  <tbody>\n",
              "    <tr>\n",
              "      <th>0</th>\n",
              "      <td>Algeria</td>\n",
              "      <td>3.72</td>\n",
              "      <td>13500</td>\n",
              "      <td>0.82</td>\n",
              "      <td>42.3</td>\n",
              "      <td>0.00458</td>\n",
              "      <td>1360.0</td>\n",
              "      <td>0.452</td>\n",
              "      <td>1640</td>\n",
              "      <td>145000.0</td>\n",
              "      <td>0.000787</td>\n",
              "      <td>0.302</td>\n",
              "      <td>0.319</td>\n",
              "      <td>0.0301</td>\n",
              "      <td>38900000</td>\n",
              "    </tr>\n",
              "    <tr>\n",
              "      <th>1</th>\n",
              "      <td>Argentina</td>\n",
              "      <td>4.75</td>\n",
              "      <td>18800</td>\n",
              "      <td>10.00</td>\n",
              "      <td>24.3</td>\n",
              "      <td>0.03460</td>\n",
              "      <td>3050.0</td>\n",
              "      <td>0.729</td>\n",
              "      <td>3290</td>\n",
              "      <td>204000.0</td>\n",
              "      <td>0.114000</td>\n",
              "      <td>0.144</td>\n",
              "      <td>0.140</td>\n",
              "      <td>5.5000</td>\n",
              "      <td>42600000</td>\n",
              "    </tr>\n",
              "    <tr>\n",
              "      <th>2</th>\n",
              "      <td>Australia</td>\n",
              "      <td>15.40</td>\n",
              "      <td>43400</td>\n",
              "      <td>16.20</td>\n",
              "      <td>25.4</td>\n",
              "      <td>1.82000</td>\n",
              "      <td>10100.0</td>\n",
              "      <td>2.050</td>\n",
              "      <td>10500</td>\n",
              "      <td>361000.0</td>\n",
              "      <td>0.878000</td>\n",
              "      <td>0.210</td>\n",
              "      <td>0.215</td>\n",
              "      <td>2.3700</td>\n",
              "      <td>23600000</td>\n",
              "    </tr>\n",
              "    <tr>\n",
              "      <th>3</th>\n",
              "      <td>Austria</td>\n",
              "      <td>6.80</td>\n",
              "      <td>44100</td>\n",
              "      <td>46.90</td>\n",
              "      <td>25.4</td>\n",
              "      <td>0.34700</td>\n",
              "      <td>8360.0</td>\n",
              "      <td>1.440</td>\n",
              "      <td>7540</td>\n",
              "      <td>58700.0</td>\n",
              "      <td>0.219000</td>\n",
              "      <td>0.534</td>\n",
              "      <td>0.501</td>\n",
              "      <td>13.2000</td>\n",
              "      <td>8620000</td>\n",
              "    </tr>\n",
              "    <tr>\n",
              "      <th>4</th>\n",
              "      <td>Azerbaijan</td>\n",
              "      <td>3.94</td>\n",
              "      <td>16700</td>\n",
              "      <td>13.50</td>\n",
              "      <td>53.6</td>\n",
              "      <td>0.00017</td>\n",
              "      <td>2200.0</td>\n",
              "      <td>0.468</td>\n",
              "      <td>2600</td>\n",
              "      <td>37500.0</td>\n",
              "      <td>0.269851</td>\n",
              "      <td>0.433</td>\n",
              "      <td>0.262</td>\n",
              "      <td>0.5720</td>\n",
              "      <td>9510000</td>\n",
              "    </tr>\n",
              "  </tbody>\n",
              "</table>\n",
              "</div>"
            ],
            "text/plain": [
              "          geo  ...  population_total\n",
              "0     Algeria  ...          38900000\n",
              "1   Argentina  ...          42600000\n",
              "2   Australia  ...          23600000\n",
              "3     Austria  ...           8620000\n",
              "4  Azerbaijan  ...           9510000\n",
              "\n",
              "[5 rows x 15 columns]"
            ]
          },
          "metadata": {
            "tags": []
          },
          "execution_count": 12
        }
      ]
    },
    {
      "cell_type": "code",
      "metadata": {
        "id": "JXH99RDqp7SE",
        "outputId": "6d1eff91-f617-471b-d2fa-0afb0e744ca3",
        "colab": {
          "base_uri": "https://localhost:8080/"
        }
      },
      "source": [
        "emission.isnull().sum()"
      ],
      "execution_count": null,
      "outputs": [
        {
          "output_type": "execute_result",
          "data": {
            "text/plain": [
              "geo                                                      0\n",
              "co2_emissions_tonnes_per_person                          0\n",
              "income_per_person_gdppercapita_ppp_inflation_adjusted    0\n",
              "forest_coverage_percent                                  0\n",
              "industry_percent_of_gdp                                  0\n",
              "coal_consumption_per_cap                                 0\n",
              "electricity_use_per_person                               0\n",
              "oil_consumption_per_cap                                  0\n",
              "electricity_generation_per_person                        0\n",
              "yearly_co2_emissions_1000_tonnes                         0\n",
              "market_value_of_listed_companies_percent_of_gdp          0\n",
              "exports_percent_of_gdp                                   0\n",
              "imports_percent_of_gdp                                   0\n",
              "eg_use_comm_cl_zs                                        0\n",
              "population_total                                         0\n",
              "dtype: int64"
            ]
          },
          "metadata": {
            "tags": []
          },
          "execution_count": 13
        }
      ]
    },
    {
      "cell_type": "code",
      "metadata": {
        "id": "BiyIkekMp_sv",
        "outputId": "f0d4b815-da2b-434b-82d6-175e858ec01f",
        "colab": {
          "base_uri": "https://localhost:8080/"
        }
      },
      "source": [
        "#fill the imputed values to emission dataset\n",
        "emission.loc[country.index,['geo','market_value_of_listed_companies_percent_of_gdp', \"eg_use_comm_cl_zs\"]]"
      ],
      "execution_count": null,
      "outputs": [
        {
          "output_type": "execute_result",
          "data": {
            "text/html": [
              "<div>\n",
              "<style scoped>\n",
              "    .dataframe tbody tr th:only-of-type {\n",
              "        vertical-align: middle;\n",
              "    }\n",
              "\n",
              "    .dataframe tbody tr th {\n",
              "        vertical-align: top;\n",
              "    }\n",
              "\n",
              "    .dataframe thead th {\n",
              "        text-align: right;\n",
              "    }\n",
              "</style>\n",
              "<table border=\"1\" class=\"dataframe\">\n",
              "  <thead>\n",
              "    <tr style=\"text-align: right;\">\n",
              "      <th></th>\n",
              "      <th>geo</th>\n",
              "      <th>market_value_of_listed_companies_percent_of_gdp</th>\n",
              "      <th>eg_use_comm_cl_zs</th>\n",
              "    </tr>\n",
              "  </thead>\n",
              "  <tbody>\n",
              "    <tr>\n",
              "      <th>4</th>\n",
              "      <td>Azerbaijan</td>\n",
              "      <td>0.269851</td>\n",
              "      <td>0.572000</td>\n",
              "    </tr>\n",
              "    <tr>\n",
              "      <th>5</th>\n",
              "      <td>Bangladesh</td>\n",
              "      <td>0.366450</td>\n",
              "      <td>0.153000</td>\n",
              "    </tr>\n",
              "    <tr>\n",
              "      <th>6</th>\n",
              "      <td>Belarus</td>\n",
              "      <td>0.466169</td>\n",
              "      <td>0.053900</td>\n",
              "    </tr>\n",
              "    <tr>\n",
              "      <th>9</th>\n",
              "      <td>Bulgaria</td>\n",
              "      <td>1.123161</td>\n",
              "      <td>25.800000</td>\n",
              "    </tr>\n",
              "    <tr>\n",
              "      <th>14</th>\n",
              "      <td>Czech Republic</td>\n",
              "      <td>0.283916</td>\n",
              "      <td>20.800000</td>\n",
              "    </tr>\n",
              "    <tr>\n",
              "      <th>15</th>\n",
              "      <td>Denmark</td>\n",
              "      <td>1.684340</td>\n",
              "      <td>9.890000</td>\n",
              "    </tr>\n",
              "    <tr>\n",
              "      <th>16</th>\n",
              "      <td>Ecuador</td>\n",
              "      <td>0.618315</td>\n",
              "      <td>6.210000</td>\n",
              "    </tr>\n",
              "    <tr>\n",
              "      <th>18</th>\n",
              "      <td>Finland</td>\n",
              "      <td>1.764863</td>\n",
              "      <td>23.200000</td>\n",
              "    </tr>\n",
              "    <tr>\n",
              "      <th>28</th>\n",
              "      <td>Italy</td>\n",
              "      <td>1.208928</td>\n",
              "      <td>7.060000</td>\n",
              "    </tr>\n",
              "    <tr>\n",
              "      <th>31</th>\n",
              "      <td>Kuwait</td>\n",
              "      <td>0.788394</td>\n",
              "      <td>0.000000</td>\n",
              "    </tr>\n",
              "    <tr>\n",
              "      <th>43</th>\n",
              "      <td>Romania</td>\n",
              "      <td>0.685404</td>\n",
              "      <td>14.500000</td>\n",
              "    </tr>\n",
              "    <tr>\n",
              "      <th>47</th>\n",
              "      <td>Slovak Republic</td>\n",
              "      <td>1.581371</td>\n",
              "      <td>28.300000</td>\n",
              "    </tr>\n",
              "    <tr>\n",
              "      <th>51</th>\n",
              "      <td>Sweden</td>\n",
              "      <td>0.190982</td>\n",
              "      <td>47.500000</td>\n",
              "    </tr>\n",
              "    <tr>\n",
              "      <th>55</th>\n",
              "      <td>Ukraine</td>\n",
              "      <td>0.443198</td>\n",
              "      <td>22.500000</td>\n",
              "    </tr>\n",
              "    <tr>\n",
              "      <th>57</th>\n",
              "      <td>United Kingdom</td>\n",
              "      <td>0.876214</td>\n",
              "      <td>11.600000</td>\n",
              "    </tr>\n",
              "    <tr>\n",
              "      <th>59</th>\n",
              "      <td>Venezuela</td>\n",
              "      <td>0.934280</td>\n",
              "      <td>3.639854</td>\n",
              "    </tr>\n",
              "  </tbody>\n",
              "</table>\n",
              "</div>"
            ],
            "text/plain": [
              "                geo  ...  eg_use_comm_cl_zs\n",
              "4        Azerbaijan  ...           0.572000\n",
              "5        Bangladesh  ...           0.153000\n",
              "6           Belarus  ...           0.053900\n",
              "9          Bulgaria  ...          25.800000\n",
              "14   Czech Republic  ...          20.800000\n",
              "15          Denmark  ...           9.890000\n",
              "16          Ecuador  ...           6.210000\n",
              "18          Finland  ...          23.200000\n",
              "28            Italy  ...           7.060000\n",
              "31           Kuwait  ...           0.000000\n",
              "43          Romania  ...          14.500000\n",
              "47  Slovak Republic  ...          28.300000\n",
              "51           Sweden  ...          47.500000\n",
              "55          Ukraine  ...          22.500000\n",
              "57   United Kingdom  ...          11.600000\n",
              "59        Venezuela  ...           3.639854\n",
              "\n",
              "[16 rows x 3 columns]"
            ]
          },
          "metadata": {
            "tags": []
          },
          "execution_count": 14
        }
      ]
    },
    {
      "cell_type": "markdown",
      "metadata": {
        "id": "2rKV3dM2SJkd"
      },
      "source": [
        "### Exploratory Data Analysis"
      ]
    },
    {
      "cell_type": "code",
      "metadata": {
        "id": "a_IzBC_sSbnZ",
        "outputId": "b8c95745-3177-4860-8bd5-e0ad7740771a",
        "colab": {
          "base_uri": "https://localhost:8080/"
        }
      },
      "source": [
        "emission.head() # overview of data"
      ],
      "execution_count": null,
      "outputs": [
        {
          "output_type": "execute_result",
          "data": {
            "text/html": [
              "<div>\n",
              "<style scoped>\n",
              "    .dataframe tbody tr th:only-of-type {\n",
              "        vertical-align: middle;\n",
              "    }\n",
              "\n",
              "    .dataframe tbody tr th {\n",
              "        vertical-align: top;\n",
              "    }\n",
              "\n",
              "    .dataframe thead th {\n",
              "        text-align: right;\n",
              "    }\n",
              "</style>\n",
              "<table border=\"1\" class=\"dataframe\">\n",
              "  <thead>\n",
              "    <tr style=\"text-align: right;\">\n",
              "      <th></th>\n",
              "      <th>geo</th>\n",
              "      <th>co2_emissions_tonnes_per_person</th>\n",
              "      <th>income_per_person_gdppercapita_ppp_inflation_adjusted</th>\n",
              "      <th>forest_coverage_percent</th>\n",
              "      <th>industry_percent_of_gdp</th>\n",
              "      <th>coal_consumption_per_cap</th>\n",
              "      <th>electricity_use_per_person</th>\n",
              "      <th>oil_consumption_per_cap</th>\n",
              "      <th>electricity_generation_per_person</th>\n",
              "      <th>yearly_co2_emissions_1000_tonnes</th>\n",
              "      <th>market_value_of_listed_companies_percent_of_gdp</th>\n",
              "      <th>exports_percent_of_gdp</th>\n",
              "      <th>imports_percent_of_gdp</th>\n",
              "      <th>eg_use_comm_cl_zs</th>\n",
              "      <th>population_total</th>\n",
              "    </tr>\n",
              "  </thead>\n",
              "  <tbody>\n",
              "    <tr>\n",
              "      <th>0</th>\n",
              "      <td>Algeria</td>\n",
              "      <td>3.72</td>\n",
              "      <td>13500</td>\n",
              "      <td>0.82</td>\n",
              "      <td>42.3</td>\n",
              "      <td>0.00458</td>\n",
              "      <td>1360.0</td>\n",
              "      <td>0.452</td>\n",
              "      <td>1640</td>\n",
              "      <td>145000.0</td>\n",
              "      <td>0.000787</td>\n",
              "      <td>0.302</td>\n",
              "      <td>0.319</td>\n",
              "      <td>0.0301</td>\n",
              "      <td>38900000</td>\n",
              "    </tr>\n",
              "    <tr>\n",
              "      <th>1</th>\n",
              "      <td>Argentina</td>\n",
              "      <td>4.75</td>\n",
              "      <td>18800</td>\n",
              "      <td>10.00</td>\n",
              "      <td>24.3</td>\n",
              "      <td>0.03460</td>\n",
              "      <td>3050.0</td>\n",
              "      <td>0.729</td>\n",
              "      <td>3290</td>\n",
              "      <td>204000.0</td>\n",
              "      <td>0.114000</td>\n",
              "      <td>0.144</td>\n",
              "      <td>0.140</td>\n",
              "      <td>5.5000</td>\n",
              "      <td>42600000</td>\n",
              "    </tr>\n",
              "    <tr>\n",
              "      <th>2</th>\n",
              "      <td>Australia</td>\n",
              "      <td>15.40</td>\n",
              "      <td>43400</td>\n",
              "      <td>16.20</td>\n",
              "      <td>25.4</td>\n",
              "      <td>1.82000</td>\n",
              "      <td>10100.0</td>\n",
              "      <td>2.050</td>\n",
              "      <td>10500</td>\n",
              "      <td>361000.0</td>\n",
              "      <td>0.878000</td>\n",
              "      <td>0.210</td>\n",
              "      <td>0.215</td>\n",
              "      <td>2.3700</td>\n",
              "      <td>23600000</td>\n",
              "    </tr>\n",
              "    <tr>\n",
              "      <th>3</th>\n",
              "      <td>Austria</td>\n",
              "      <td>6.80</td>\n",
              "      <td>44100</td>\n",
              "      <td>46.90</td>\n",
              "      <td>25.4</td>\n",
              "      <td>0.34700</td>\n",
              "      <td>8360.0</td>\n",
              "      <td>1.440</td>\n",
              "      <td>7540</td>\n",
              "      <td>58700.0</td>\n",
              "      <td>0.219000</td>\n",
              "      <td>0.534</td>\n",
              "      <td>0.501</td>\n",
              "      <td>13.2000</td>\n",
              "      <td>8620000</td>\n",
              "    </tr>\n",
              "    <tr>\n",
              "      <th>4</th>\n",
              "      <td>Azerbaijan</td>\n",
              "      <td>3.94</td>\n",
              "      <td>16700</td>\n",
              "      <td>13.50</td>\n",
              "      <td>53.6</td>\n",
              "      <td>0.00017</td>\n",
              "      <td>2200.0</td>\n",
              "      <td>0.468</td>\n",
              "      <td>2600</td>\n",
              "      <td>37500.0</td>\n",
              "      <td>0.269851</td>\n",
              "      <td>0.433</td>\n",
              "      <td>0.262</td>\n",
              "      <td>0.5720</td>\n",
              "      <td>9510000</td>\n",
              "    </tr>\n",
              "  </tbody>\n",
              "</table>\n",
              "</div>"
            ],
            "text/plain": [
              "          geo  ...  population_total\n",
              "0     Algeria  ...          38900000\n",
              "1   Argentina  ...          42600000\n",
              "2   Australia  ...          23600000\n",
              "3     Austria  ...           8620000\n",
              "4  Azerbaijan  ...           9510000\n",
              "\n",
              "[5 rows x 15 columns]"
            ]
          },
          "metadata": {
            "tags": []
          },
          "execution_count": 15
        }
      ]
    },
    {
      "cell_type": "markdown",
      "metadata": {
        "id": "JShZBRKB-OKs"
      },
      "source": [
        "#### Univariate Analysis"
      ]
    },
    {
      "cell_type": "markdown",
      "metadata": {
        "id": "CzGV-RKg_bRz"
      },
      "source": [
        "##### Heatmap  \n",
        "To see how multiple features are correlated with each other."
      ]
    },
    {
      "cell_type": "code",
      "metadata": {
        "id": "iZBYLeaT1jva",
        "outputId": "42a46a02-524f-4bac-f886-7c00b06d4c1f",
        "colab": {
          "base_uri": "https://localhost:8080/"
        }
      },
      "source": [
        "plt.figure(figsize=(20,10))\n",
        "matrix = np.triu(emission.corr())\n",
        "sns.heatmap(emission.corr(), annot=True,mask= matrix)\n"
      ],
      "execution_count": null,
      "outputs": [
        {
          "output_type": "execute_result",
          "data": {
            "text/plain": [
              "<matplotlib.axes._subplots.AxesSubplot at 0x7f64fa7251d0>"
            ]
          },
          "metadata": {
            "tags": []
          },
          "execution_count": 16
        },
        {
          "output_type": "display_data",
          "data": {
            "image/png": "[encoded data removed]",
            "text/plain": [
              "<Figure size 1440x720 with 2 Axes>"
            ]
          },
          "metadata": {
            "tags": [],
            "needs_background": "light"
          }
        }
      ]
    },
    {
      "cell_type": "markdown",
      "metadata": {
        "id": "PhRD4WbsGzMa"
      },
      "source": [
        "##### Violin Plot"
      ]
    },
    {
      "cell_type": "code",
      "metadata": {
        "id": "_z2pBAzeSiO3"
      },
      "source": [
        "# function to plot violin plots\n",
        "def violin_plot(column:'list', dataframe:'dataframe'):\n",
        "    plt.figure(figsize=(16,10))\n",
        "    for index, val in enumerate(column):\n",
        "        plt.subplot(5,3,index+1)\n",
        "        sns.violinplot(dataframe[val], inner='quartile',data = dataframe)\n",
        "        \n",
        "    plt.tight_layout()\n",
        "    return plt.show()\n",
        "            "
      ],
      "execution_count": null,
      "outputs": []
    },
    {
      "cell_type": "code",
      "metadata": {
        "id": "WFggeOJ3WwIs",
        "outputId": "135c90cb-880e-4334-aa62-e435740caa94",
        "colab": {
          "base_uri": "https://localhost:8080/"
        }
      },
      "source": [
        "column = list(emission.columns)\n",
        "column.remove('geo') # since in geo feature do not have numerrical value remove it \n",
        "violin_plot(column,emission)"
      ],
      "execution_count": null,
      "outputs": [
        {
          "output_type": "display_data",
          "data": {
            "image/png": "[encoded data removed]",
            "text/plain": [
              "<Figure size 1152x720 with 14 Axes>"
            ]
          },
          "metadata": {
            "tags": [],
            "needs_background": "light"
          }
        }
      ]
    },
    {
      "cell_type": "code",
      "metadata": {
        "id": "yYX0xR2lGVLV",
        "outputId": "6229609e-30c8-4273-bd8a-21f1859b979e",
        "colab": {
          "base_uri": "https://localhost:8080/"
        }
      },
      "source": [
        "emission.columns"
      ],
      "execution_count": null,
      "outputs": [
        {
          "output_type": "execute_result",
          "data": {
            "text/plain": [
              "Index(['geo', 'co2_emissions_tonnes_per_person',\n",
              "       'income_per_person_gdppercapita_ppp_inflation_adjusted',\n",
              "       'forest_coverage_percent', 'industry_percent_of_gdp',\n",
              "       'coal_consumption_per_cap', 'electricity_use_per_person',\n",
              "       'oil_consumption_per_cap', 'electricity_generation_per_person',\n",
              "       'yearly_co2_emissions_1000_tonnes',\n",
              "       'market_value_of_listed_companies_percent_of_gdp',\n",
              "       'exports_percent_of_gdp', 'imports_percent_of_gdp', 'eg_use_comm_cl_zs',\n",
              "       'population_total'],\n",
              "      dtype='object')"
            ]
          },
          "metadata": {
            "tags": []
          },
          "execution_count": 19
        }
      ]
    },
    {
      "cell_type": "markdown",
      "metadata": {
        "id": "ZhYoEJzulG03"
      },
      "source": [
        "**Observations**\n",
        "- As we see most of the plots shown us that data are normally distributed with rightly skewed mostly of them excpet `forest_coverage_percent`.\n",
        "- Out of skewed data features ;  \n",
        "    - oil_consumption_per_cap\n",
        "    - yearly_co2_emissions_1000_tonnes\n",
        "    - exports_percent_of_gdp\n",
        "    - imports_percent_of_gdp\n",
        "    - population_total  \n",
        "\n",
        "this features of total features needs attention for outliers; because most of the linear models are sensitive to outliers."
      ]
    },
    {
      "cell_type": "markdown",
      "metadata": {
        "id": "7L5NhhbPXam_"
      },
      "source": [
        "##### Box Plot"
      ]
    },
    {
      "cell_type": "code",
      "metadata": {
        "id": "NNGYAxjISgSp"
      },
      "source": [
        "# function to plot box plots\n",
        "def box_plot(column:'list', dataframe:'dataframe'):\n",
        "    plt.figure(figsize=(16,10))\n",
        "    for index, val in enumerate(column):\n",
        "        plt.subplot(5,3,index+1)\n",
        "        plt.boxplot(dataframe[val], vert= False, showmeans= True, data = dataframe)\n",
        "        plt.xlabel(val)\n",
        "        \n",
        "    plt.tight_layout()\n",
        "    return plt.show()"
      ],
      "execution_count": null,
      "outputs": []
    },
    {
      "cell_type": "code",
      "metadata": {
        "id": "-uOp-PtsS7qX",
        "outputId": "b4c17e4b-d050-4eef-8a17-2b33723560ab",
        "colab": {
          "base_uri": "https://localhost:8080/"
        }
      },
      "source": [
        "column = list(emission.columns)\n",
        "column.remove('geo')\n",
        "box_plot(column, emission)"
      ],
      "execution_count": null,
      "outputs": [
        {
          "output_type": "display_data",
          "data": {
            "image/png": "[encoded data removed]",
            "text/plain": [
              "<Figure size 1152x720 with 14 Axes>"
            ]
          },
          "metadata": {
            "tags": [],
            "needs_background": "light"
          }
        }
      ]
    },
    {
      "cell_type": "markdown",
      "metadata": {
        "id": "0N01t3aA_JXa"
      },
      "source": [
        "#### Bivariate Analysis"
      ]
    },
    {
      "cell_type": "markdown",
      "metadata": {
        "id": "qPKN-vPmIZHV"
      },
      "source": [
        "To do bivariate analysis most of the time we often choose distplot or scatter plot. Scatter plots might give glimpse of trend between two variables which we are plotted. "
      ]
    },
    {
      "cell_type": "markdown",
      "metadata": {
        "id": "H_qEIV27JDJo"
      },
      "source": [
        "##### Scatter Plot"
      ]
    },
    {
      "cell_type": "code",
      "metadata": {
        "id": "KEBlLXchJH9b"
      },
      "source": [
        "def plot_scatter(on_x:'list', on_y: 'varname', dataframe:'dataframe'):\n",
        "    plt.figure(figsize=(25,20))\n",
        "    for index, val in enumerate(on_x):\n",
        "        plt.subplot(5,3,index+1)\n",
        "        sns.scatterplot(x = dataframe[val], y= dataframe[on_y], data = dataframe)\n",
        "        plt.ylabel(on_y)\n",
        "        \n",
        "    plt.tight_layout()\n",
        "    plt.subplots_adjust(left=0.1, right=0.9, bottom=0.1, top=0.9)\n",
        "    return plt.show()"
      ],
      "execution_count": null,
      "outputs": []
    },
    {
      "cell_type": "code",
      "metadata": {
        "id": "LmSErkXEKLuI",
        "outputId": "e25b2303-4b39-495c-d5d9-954b198157bf",
        "colab": {
          "base_uri": "https://localhost:8080/"
        }
      },
      "source": [
        "column = list(emission.columns)\n",
        "\n",
        "column.remove('geo')\n",
        "column.remove('co2_emissions_tonnes_per_person') \n",
        "y = 'co2_emissions_tonnes_per_person'\n",
        "plot_scatter(column, y,emission)"
      ],
      "execution_count": null,
      "outputs": [
        {
          "output_type": "display_data",
          "data": {
            "image/png": "[encoded data removed]",
            "text/plain": [
              "<Figure size 1800x1440 with 13 Axes>"
            ]
          },
          "metadata": {
            "tags": [],
            "needs_background": "light"
          }
        }
      ]
    },
    {
      "cell_type": "markdown",
      "metadata": {
        "id": "KeAtd8fET0fY"
      },
      "source": [
        "#### Outliers Treatment   \n",
        "As we observed by boxplots there is outliers and we noted that outliers are too sensitive to the linear models. We need to handle them; one of the simplest method is drop that much amount from the feaures but it is not right choice cause our dataset is small so we should have to choose another way to handle them. Here we are using capping of outliers method to cap outliers."
      ]
    },
    {
      "cell_type": "code",
      "metadata": {
        "id": "hTjLa9uBUPLv",
        "outputId": "4fe2afb5-8d5b-4a6b-8b11-42ba4c1d9d53",
        "colab": {
          "base_uri": "https://localhost:8080/"
        }
      },
      "source": [
        "# check for different quantiles to check for sudden rise\n",
        "\n",
        "emission.describe(percentiles=[0.1,0.25,0.5,0.75,0.90,0.95,0.99,0.995])"
      ],
      "execution_count": null,
      "outputs": [
        {
          "output_type": "execute_result",
          "data": {
            "text/html": [
              "<div>\n",
              "<style scoped>\n",
              "    .dataframe tbody tr th:only-of-type {\n",
              "        vertical-align: middle;\n",
              "    }\n",
              "\n",
              "    .dataframe tbody tr th {\n",
              "        vertical-align: top;\n",
              "    }\n",
              "\n",
              "    .dataframe thead th {\n",
              "        text-align: right;\n",
              "    }\n",
              "</style>\n",
              "<table border=\"1\" class=\"dataframe\">\n",
              "  <thead>\n",
              "    <tr style=\"text-align: right;\">\n",
              "      <th></th>\n",
              "      <th>co2_emissions_tonnes_per_person</th>\n",
              "      <th>income_per_person_gdppercapita_ppp_inflation_adjusted</th>\n",
              "      <th>forest_coverage_percent</th>\n",
              "      <th>industry_percent_of_gdp</th>\n",
              "      <th>coal_consumption_per_cap</th>\n",
              "      <th>electricity_use_per_person</th>\n",
              "      <th>oil_consumption_per_cap</th>\n",
              "      <th>electricity_generation_per_person</th>\n",
              "      <th>yearly_co2_emissions_1000_tonnes</th>\n",
              "      <th>market_value_of_listed_companies_percent_of_gdp</th>\n",
              "      <th>exports_percent_of_gdp</th>\n",
              "      <th>imports_percent_of_gdp</th>\n",
              "      <th>eg_use_comm_cl_zs</th>\n",
              "      <th>population_total</th>\n",
              "    </tr>\n",
              "  </thead>\n",
              "  <tbody>\n",
              "    <tr>\n",
              "      <th>count</th>\n",
              "      <td>61.000000</td>\n",
              "      <td>61.000000</td>\n",
              "      <td>61.000000</td>\n",
              "      <td>61.000000</td>\n",
              "      <td>61.000000</td>\n",
              "      <td>61.000000</td>\n",
              "      <td>61.000000</td>\n",
              "      <td>61.000000</td>\n",
              "      <td>6.100000e+01</td>\n",
              "      <td>61.000000</td>\n",
              "      <td>61.000000</td>\n",
              "      <td>61.000000</td>\n",
              "      <td>61.000000</td>\n",
              "      <td>6.100000e+01</td>\n",
              "    </tr>\n",
              "    <tr>\n",
              "      <th>mean</th>\n",
              "      <td>7.783361</td>\n",
              "      <td>30195.409836</td>\n",
              "      <td>29.303934</td>\n",
              "      <td>30.688525</td>\n",
              "      <td>0.469197</td>\n",
              "      <td>5908.327869</td>\n",
              "      <td>1.443149</td>\n",
              "      <td>6359.901639</td>\n",
              "      <td>5.281639e+05</td>\n",
              "      <td>0.714650</td>\n",
              "      <td>0.450820</td>\n",
              "      <td>0.413820</td>\n",
              "      <td>9.962165</td>\n",
              "      <td>9.499246e+07</td>\n",
              "    </tr>\n",
              "    <tr>\n",
              "      <th>std</th>\n",
              "      <td>7.060743</td>\n",
              "      <td>21172.571531</td>\n",
              "      <td>19.956345</td>\n",
              "      <td>11.639961</td>\n",
              "      <td>0.540885</td>\n",
              "      <td>4598.417466</td>\n",
              "      <td>1.803918</td>\n",
              "      <td>5130.952523</td>\n",
              "      <td>1.473971e+06</td>\n",
              "      <td>0.562190</td>\n",
              "      <td>0.308053</td>\n",
              "      <td>0.257976</td>\n",
              "      <td>11.666623</td>\n",
              "      <td>2.418230e+08</td>\n",
              "    </tr>\n",
              "    <tr>\n",
              "      <th>min</th>\n",
              "      <td>0.459000</td>\n",
              "      <td>2970.000000</td>\n",
              "      <td>0.000000</td>\n",
              "      <td>14.100000</td>\n",
              "      <td>0.000000</td>\n",
              "      <td>310.000000</td>\n",
              "      <td>0.036100</td>\n",
              "      <td>350.000000</td>\n",
              "      <td>3.070000e+04</td>\n",
              "      <td>0.000787</td>\n",
              "      <td>0.110000</td>\n",
              "      <td>0.137000</td>\n",
              "      <td>0.000000</td>\n",
              "      <td>2.460000e+06</td>\n",
              "    </tr>\n",
              "    <tr>\n",
              "      <th>10%</th>\n",
              "      <td>1.820000</td>\n",
              "      <td>9880.000000</td>\n",
              "      <td>1.970000</td>\n",
              "      <td>19.700000</td>\n",
              "      <td>0.004580</td>\n",
              "      <td>1310.000000</td>\n",
              "      <td>0.295000</td>\n",
              "      <td>1530.000000</td>\n",
              "      <td>4.210000e+04</td>\n",
              "      <td>0.219000</td>\n",
              "      <td>0.167000</td>\n",
              "      <td>0.209000</td>\n",
              "      <td>0.153000</td>\n",
              "      <td>5.460000e+06</td>\n",
              "    </tr>\n",
              "    <tr>\n",
              "      <th>25%</th>\n",
              "      <td>4.290000</td>\n",
              "      <td>15400.000000</td>\n",
              "      <td>12.900000</td>\n",
              "      <td>22.800000</td>\n",
              "      <td>0.083000</td>\n",
              "      <td>2600.000000</td>\n",
              "      <td>0.495000</td>\n",
              "      <td>3000.000000</td>\n",
              "      <td>6.170000e+04</td>\n",
              "      <td>0.301000</td>\n",
              "      <td>0.238000</td>\n",
              "      <td>0.260000</td>\n",
              "      <td>1.500000</td>\n",
              "      <td>9.510000e+06</td>\n",
              "    </tr>\n",
              "    <tr>\n",
              "      <th>50%</th>\n",
              "      <td>5.980000</td>\n",
              "      <td>24300.000000</td>\n",
              "      <td>30.800000</td>\n",
              "      <td>27.700000</td>\n",
              "      <td>0.262000</td>\n",
              "      <td>5000.000000</td>\n",
              "      <td>1.060000</td>\n",
              "      <td>5020.000000</td>\n",
              "      <td>1.670000e+05</td>\n",
              "      <td>0.573000</td>\n",
              "      <td>0.335000</td>\n",
              "      <td>0.319000</td>\n",
              "      <td>5.420000</td>\n",
              "      <td>3.010000e+07</td>\n",
              "    </tr>\n",
              "    <tr>\n",
              "      <th>75%</th>\n",
              "      <td>8.980000</td>\n",
              "      <td>42900.000000</td>\n",
              "      <td>40.300000</td>\n",
              "      <td>34.700000</td>\n",
              "      <td>0.609000</td>\n",
              "      <td>7710.000000</td>\n",
              "      <td>1.490000</td>\n",
              "      <td>8290.000000</td>\n",
              "      <td>3.610000e+05</td>\n",
              "      <td>0.895000</td>\n",
              "      <td>0.549000</td>\n",
              "      <td>0.501000</td>\n",
              "      <td>13.500000</td>\n",
              "      <td>7.720000e+07</td>\n",
              "    </tr>\n",
              "    <tr>\n",
              "      <th>90%</th>\n",
              "      <td>15.100000</td>\n",
              "      <td>51800.000000</td>\n",
              "      <td>57.900000</td>\n",
              "      <td>42.300000</td>\n",
              "      <td>1.410000</td>\n",
              "      <td>13000.000000</td>\n",
              "      <td>2.650000</td>\n",
              "      <td>12800.000000</td>\n",
              "      <td>6.490000e+05</td>\n",
              "      <td>1.500000</td>\n",
              "      <td>0.825000</td>\n",
              "      <td>0.762000</td>\n",
              "      <td>23.200000</td>\n",
              "      <td>1.550000e+08</td>\n",
              "    </tr>\n",
              "    <tr>\n",
              "      <th>95%</th>\n",
              "      <td>19.500000</td>\n",
              "      <td>64100.000000</td>\n",
              "      <td>67.500000</td>\n",
              "      <td>53.600000</td>\n",
              "      <td>1.650000</td>\n",
              "      <td>15200.000000</td>\n",
              "      <td>4.260000</td>\n",
              "      <td>16300.000000</td>\n",
              "      <td>1.710000e+06</td>\n",
              "      <td>1.764863</td>\n",
              "      <td>0.915000</td>\n",
              "      <td>0.831000</td>\n",
              "      <td>32.300000</td>\n",
              "      <td>2.550000e+08</td>\n",
              "    </tr>\n",
              "    <tr>\n",
              "      <th>99%</th>\n",
              "      <td>33.280000</td>\n",
              "      <td>96580.000000</td>\n",
              "      <td>70.580000</td>\n",
              "      <td>70.080000</td>\n",
              "      <td>2.028000</td>\n",
              "      <td>18500.000000</td>\n",
              "      <td>8.170000</td>\n",
              "      <td>21960.000000</td>\n",
              "      <td>7.270000e+06</td>\n",
              "      <td>2.498000</td>\n",
              "      <td>1.428000</td>\n",
              "      <td>1.228000</td>\n",
              "      <td>48.340000</td>\n",
              "      <td>1.340000e+09</td>\n",
              "    </tr>\n",
              "    <tr>\n",
              "      <th>99.5%</th>\n",
              "      <td>39.340000</td>\n",
              "      <td>108790.000000</td>\n",
              "      <td>71.840000</td>\n",
              "      <td>70.290000</td>\n",
              "      <td>2.184000</td>\n",
              "      <td>20750.000000</td>\n",
              "      <td>10.135000</td>\n",
              "      <td>24780.000000</td>\n",
              "      <td>8.785000e+06</td>\n",
              "      <td>2.579000</td>\n",
              "      <td>1.674000</td>\n",
              "      <td>1.459000</td>\n",
              "      <td>48.970000</td>\n",
              "      <td>1.370000e+09</td>\n",
              "    </tr>\n",
              "    <tr>\n",
              "      <th>max</th>\n",
              "      <td>45.400000</td>\n",
              "      <td>121000.000000</td>\n",
              "      <td>73.100000</td>\n",
              "      <td>70.500000</td>\n",
              "      <td>2.340000</td>\n",
              "      <td>23000.000000</td>\n",
              "      <td>12.100000</td>\n",
              "      <td>27600.000000</td>\n",
              "      <td>1.030000e+07</td>\n",
              "      <td>2.660000</td>\n",
              "      <td>1.920000</td>\n",
              "      <td>1.690000</td>\n",
              "      <td>49.600000</td>\n",
              "      <td>1.400000e+09</td>\n",
              "    </tr>\n",
              "  </tbody>\n",
              "</table>\n",
              "</div>"
            ],
            "text/plain": [
              "       co2_emissions_tonnes_per_person  ...  population_total\n",
              "count                        61.000000  ...      6.100000e+01\n",
              "mean                          7.783361  ...      9.499246e+07\n",
              "std                           7.060743  ...      2.418230e+08\n",
              "min                           0.459000  ...      2.460000e+06\n",
              "10%                           1.820000  ...      5.460000e+06\n",
              "25%                           4.290000  ...      9.510000e+06\n",
              "50%                           5.980000  ...      3.010000e+07\n",
              "75%                           8.980000  ...      7.720000e+07\n",
              "90%                          15.100000  ...      1.550000e+08\n",
              "95%                          19.500000  ...      2.550000e+08\n",
              "99%                          33.280000  ...      1.340000e+09\n",
              "99.5%                        39.340000  ...      1.370000e+09\n",
              "max                          45.400000  ...      1.400000e+09\n",
              "\n",
              "[13 rows x 14 columns]"
            ]
          },
          "metadata": {
            "tags": []
          },
          "execution_count": 24
        }
      ]
    },
    {
      "cell_type": "code",
      "metadata": {
        "id": "ERdx6cB9WXme"
      },
      "source": [
        "# creating a list of features to treat for outliers\n",
        "\n",
        "features = [\"co2_emissions_tonnes_per_person\",\n",
        "            \"income_per_person_gdppercapita_ppp_inflation_adjusted\",\n",
        "            \"coal_consumption_per_cap\",\n",
        "            \"electricity_use_per_person\",\n",
        "            \"oil_consumption_per_cap\",\n",
        "            \"electricity_generation_per_person\",\n",
        "            \"yearly_co2_emissions_1000_tonnes\",\n",
        "            \"market_value_of_listed_companies_percent_of_gdp\",\n",
        "            \"exports_percent_of_gdp\",\n",
        "            \"imports_percent_of_gdp\",\n",
        "            \"eg_use_comm_cl_zs\",\n",
        "            \"population_total\"]"
      ],
      "execution_count": null,
      "outputs": []
    },
    {
      "cell_type": "code",
      "metadata": {
        "id": "o4xNtrVlRcVB",
        "outputId": "f6a87766-5db3-47ea-e175-994e3d90f23c",
        "colab": {
          "base_uri": "https://localhost:8080/"
        }
      },
      "source": [
        "# cap the outliers to 99th percentile value\n",
        "for i in features:\n",
        "  q2 = emission[i].quantile(0.99)\n",
        "  emission[i][emission[i]>q2]=q2"
      ],
      "execution_count": null,
      "outputs": [
        {
          "output_type": "stream",
          "text": [
            "/usr/local/lib/python3.6/dist-packages/ipykernel_launcher.py:4: SettingWithCopyWarning: \n",
            "A value is trying to be set on a copy of a slice from a DataFrame\n",
            "\n",
            "See the caveats in the documentation: https://pandas.pydata.org/pandas-docs/stable/user_guide/indexing.html#returning-a-view-versus-a-copy\n",
            "  after removing the cwd from sys.path.\n",
            "/usr/local/lib/python3.6/dist-packages/ipykernel_launcher.py:4: SettingWithCopyWarning: \n",
            "A value is trying to be set on a copy of a slice from a DataFrame\n",
            "\n",
            "See the caveats in the documentation: https://pandas.pydata.org/pandas-docs/stable/user_guide/indexing.html#returning-a-view-versus-a-copy\n",
            "  after removing the cwd from sys.path.\n",
            "/usr/local/lib/python3.6/dist-packages/ipykernel_launcher.py:4: SettingWithCopyWarning: \n",
            "A value is trying to be set on a copy of a slice from a DataFrame\n",
            "\n",
            "See the caveats in the documentation: https://pandas.pydata.org/pandas-docs/stable/user_guide/indexing.html#returning-a-view-versus-a-copy\n",
            "  after removing the cwd from sys.path.\n"
          ],
          "name": "stderr"
        }
      ]
    },
    {
      "cell_type": "code",
      "metadata": {
        "id": "rZZ6omouWjKn",
        "outputId": "36a21201-c458-42e1-e1b9-124a23d8eeea",
        "colab": {
          "base_uri": "https://localhost:8080/"
        }
      },
      "source": [
        "emission.describe()"
      ],
      "execution_count": null,
      "outputs": [
        {
          "output_type": "execute_result",
          "data": {
            "text/html": [
              "<div>\n",
              "<style scoped>\n",
              "    .dataframe tbody tr th:only-of-type {\n",
              "        vertical-align: middle;\n",
              "    }\n",
              "\n",
              "    .dataframe tbody tr th {\n",
              "        vertical-align: top;\n",
              "    }\n",
              "\n",
              "    .dataframe thead th {\n",
              "        text-align: right;\n",
              "    }\n",
              "</style>\n",
              "<table border=\"1\" class=\"dataframe\">\n",
              "  <thead>\n",
              "    <tr style=\"text-align: right;\">\n",
              "      <th></th>\n",
              "      <th>co2_emissions_tonnes_per_person</th>\n",
              "      <th>income_per_person_gdppercapita_ppp_inflation_adjusted</th>\n",
              "      <th>forest_coverage_percent</th>\n",
              "      <th>industry_percent_of_gdp</th>\n",
              "      <th>coal_consumption_per_cap</th>\n",
              "      <th>electricity_use_per_person</th>\n",
              "      <th>oil_consumption_per_cap</th>\n",
              "      <th>electricity_generation_per_person</th>\n",
              "      <th>yearly_co2_emissions_1000_tonnes</th>\n",
              "      <th>market_value_of_listed_companies_percent_of_gdp</th>\n",
              "      <th>exports_percent_of_gdp</th>\n",
              "      <th>imports_percent_of_gdp</th>\n",
              "      <th>eg_use_comm_cl_zs</th>\n",
              "      <th>population_total</th>\n",
              "    </tr>\n",
              "  </thead>\n",
              "  <tbody>\n",
              "    <tr>\n",
              "      <th>count</th>\n",
              "      <td>61.000000</td>\n",
              "      <td>61.000000</td>\n",
              "      <td>61.000000</td>\n",
              "      <td>61.000000</td>\n",
              "      <td>61.000000</td>\n",
              "      <td>61.000000</td>\n",
              "      <td>61.000000</td>\n",
              "      <td>61.000000</td>\n",
              "      <td>6.100000e+01</td>\n",
              "      <td>61.000000</td>\n",
              "      <td>61.000000</td>\n",
              "      <td>61.000000</td>\n",
              "      <td>61.000000</td>\n",
              "      <td>6.100000e+01</td>\n",
              "    </tr>\n",
              "    <tr>\n",
              "      <th>mean</th>\n",
              "      <td>7.584672</td>\n",
              "      <td>29795.081967</td>\n",
              "      <td>29.303934</td>\n",
              "      <td>30.688525</td>\n",
              "      <td>0.464082</td>\n",
              "      <td>5834.557377</td>\n",
              "      <td>1.378723</td>\n",
              "      <td>6267.442623</td>\n",
              "      <td>4.784918e+05</td>\n",
              "      <td>0.711994</td>\n",
              "      <td>0.442754</td>\n",
              "      <td>0.406246</td>\n",
              "      <td>9.941509</td>\n",
              "      <td>9.400885e+07</td>\n",
              "    </tr>\n",
              "    <tr>\n",
              "      <th>std</th>\n",
              "      <td>6.088109</td>\n",
              "      <td>19599.460590</td>\n",
              "      <td>19.956345</td>\n",
              "      <td>11.639961</td>\n",
              "      <td>0.524114</td>\n",
              "      <td>4348.983742</td>\n",
              "      <td>1.453020</td>\n",
              "      <td>4780.690761</td>\n",
              "      <td>1.155916e+06</td>\n",
              "      <td>0.553158</td>\n",
              "      <td>0.273442</td>\n",
              "      <td>0.224494</td>\n",
              "      <td>11.596178</td>\n",
              "      <td>2.364896e+08</td>\n",
              "    </tr>\n",
              "    <tr>\n",
              "      <th>min</th>\n",
              "      <td>0.459000</td>\n",
              "      <td>2970.000000</td>\n",
              "      <td>0.000000</td>\n",
              "      <td>14.100000</td>\n",
              "      <td>0.000000</td>\n",
              "      <td>310.000000</td>\n",
              "      <td>0.036100</td>\n",
              "      <td>350.000000</td>\n",
              "      <td>3.070000e+04</td>\n",
              "      <td>0.000787</td>\n",
              "      <td>0.110000</td>\n",
              "      <td>0.137000</td>\n",
              "      <td>0.000000</td>\n",
              "      <td>2.460000e+06</td>\n",
              "    </tr>\n",
              "    <tr>\n",
              "      <th>25%</th>\n",
              "      <td>4.290000</td>\n",
              "      <td>15400.000000</td>\n",
              "      <td>12.900000</td>\n",
              "      <td>22.800000</td>\n",
              "      <td>0.083000</td>\n",
              "      <td>2600.000000</td>\n",
              "      <td>0.495000</td>\n",
              "      <td>3000.000000</td>\n",
              "      <td>6.170000e+04</td>\n",
              "      <td>0.301000</td>\n",
              "      <td>0.238000</td>\n",
              "      <td>0.260000</td>\n",
              "      <td>1.500000</td>\n",
              "      <td>9.510000e+06</td>\n",
              "    </tr>\n",
              "    <tr>\n",
              "      <th>50%</th>\n",
              "      <td>5.980000</td>\n",
              "      <td>24300.000000</td>\n",
              "      <td>30.800000</td>\n",
              "      <td>27.700000</td>\n",
              "      <td>0.262000</td>\n",
              "      <td>5000.000000</td>\n",
              "      <td>1.060000</td>\n",
              "      <td>5020.000000</td>\n",
              "      <td>1.670000e+05</td>\n",
              "      <td>0.573000</td>\n",
              "      <td>0.335000</td>\n",
              "      <td>0.319000</td>\n",
              "      <td>5.420000</td>\n",
              "      <td>3.010000e+07</td>\n",
              "    </tr>\n",
              "    <tr>\n",
              "      <th>75%</th>\n",
              "      <td>8.980000</td>\n",
              "      <td>42900.000000</td>\n",
              "      <td>40.300000</td>\n",
              "      <td>34.700000</td>\n",
              "      <td>0.609000</td>\n",
              "      <td>7710.000000</td>\n",
              "      <td>1.490000</td>\n",
              "      <td>8290.000000</td>\n",
              "      <td>3.610000e+05</td>\n",
              "      <td>0.895000</td>\n",
              "      <td>0.549000</td>\n",
              "      <td>0.501000</td>\n",
              "      <td>13.500000</td>\n",
              "      <td>7.720000e+07</td>\n",
              "    </tr>\n",
              "    <tr>\n",
              "      <th>max</th>\n",
              "      <td>33.280000</td>\n",
              "      <td>96580.000000</td>\n",
              "      <td>73.100000</td>\n",
              "      <td>70.500000</td>\n",
              "      <td>2.028000</td>\n",
              "      <td>18500.000000</td>\n",
              "      <td>8.170000</td>\n",
              "      <td>21960.000000</td>\n",
              "      <td>7.270000e+06</td>\n",
              "      <td>2.498000</td>\n",
              "      <td>1.428000</td>\n",
              "      <td>1.228000</td>\n",
              "      <td>48.340000</td>\n",
              "      <td>1.340000e+09</td>\n",
              "    </tr>\n",
              "  </tbody>\n",
              "</table>\n",
              "</div>"
            ],
            "text/plain": [
              "       co2_emissions_tonnes_per_person  ...  population_total\n",
              "count                        61.000000  ...      6.100000e+01\n",
              "mean                          7.584672  ...      9.400885e+07\n",
              "std                           6.088109  ...      2.364896e+08\n",
              "min                           0.459000  ...      2.460000e+06\n",
              "25%                           4.290000  ...      9.510000e+06\n",
              "50%                           5.980000  ...      3.010000e+07\n",
              "75%                           8.980000  ...      7.720000e+07\n",
              "max                          33.280000  ...      1.340000e+09\n",
              "\n",
              "[8 rows x 14 columns]"
            ]
          },
          "metadata": {
            "tags": []
          },
          "execution_count": 27
        }
      ]
    },
    {
      "cell_type": "code",
      "metadata": {
        "id": "9Z6NYYDUXbPA",
        "outputId": "c108b0b8-e523-458a-b23e-e3a15c92caf7",
        "colab": {
          "base_uri": "https://localhost:8080/"
        }
      },
      "source": [
        "# after capping the outliers\n",
        "box_plot(features,emission)\n"
      ],
      "execution_count": null,
      "outputs": [
        {
          "output_type": "display_data",
          "data": {
            "image/png": "[encoded data removed]",
            "text/plain": [
              "<Figure size 1152x720 with 12 Axes>"
            ]
          },
          "metadata": {
            "tags": [],
            "needs_background": "light"
          }
        }
      ]
    },
    {
      "cell_type": "code",
      "metadata": {
        "id": "uV5_Fghyp1Dk",
        "outputId": "0ad4037d-0969-4778-bdd6-e53ee13cf1dd",
        "colab": {
          "base_uri": "https://localhost:8080/"
        }
      },
      "source": [
        "size = emission['population_total']\n",
        "plt.figure(figsize=(10,8))\n",
        "plt.scatter(x = \"forest_coverage_percent\", y='co2_emissions_tonnes_per_person', s =size/1000000, alpha=0.8, data=emission)\n",
        "plt.xlabel(\"Forest coverage percent\")\n",
        "plt.ylabel(\"CO$_{2}$ emission in tonnes per person\")\n",
        "plt.title(\"Countrywise CO$_{2}$emission against forest coverage of 2014\")\n",
        "plt.tight_layout()\n"
      ],
      "execution_count": null,
      "outputs": [
        {
          "output_type": "display_data",
          "data": {
            "image/png": "[encoded data removed]",
            "text/plain": [
              "<Figure size 720x576 with 1 Axes>"
            ]
          },
          "metadata": {
            "tags": [],
            "needs_background": "light"
          }
        }
      ]
    },
    {
      "cell_type": "code",
      "metadata": {
        "id": "OEjRaIT6FS8F",
        "outputId": "bd1d54dc-7d5a-43b7-f4d0-926375c78280",
        "colab": {
          "base_uri": "https://localhost:8080/"
        }
      },
      "source": [
        "# lets check for contribution of each country to the co2 emission per capita\n",
        "# a countries which are contributing abvove median value of the co2_emissions_tonnes_per_person\n",
        "\n",
        "co2_emission_contribute = emission[emission[\"co2_emissions_tonnes_per_person\"] > emission[\"co2_emissions_tonnes_per_person\"].median()]\n",
        "\n",
        "plt.figure(figsize=(20,10))\n",
        "\n",
        "sns.barplot(x=\"geo\",y=\"co2_emissions_tonnes_per_person\",\n",
        "            order=co2_emission_contribute.sort_values(\"co2_emissions_tonnes_per_person\", ascending=False).geo, \n",
        "            data=co2_emission_contribute,\n",
        "            )\n",
        "plt.xlabel(\"Country\")\n",
        "plt.xticks(rotation=90)\n",
        "plt.title(\"CO$_{2}$ emission per capita in 2014\",fontdict={'size':15})\n",
        "plt.tight_layout()"
      ],
      "execution_count": null,
      "outputs": [
        {
          "output_type": "display_data",
          "data": {
            "image/png": "[encoded data removed]",
            "text/plain": [
              "<Figure size 1440x720 with 1 Axes>"
            ]
          },
          "metadata": {
            "tags": [],
            "needs_background": "light"
          }
        }
      ]
    },
    {
      "cell_type": "code",
      "metadata": {
        "id": "eWC-LMQ8DU8Z",
        "outputId": "c51fb135-6f09-4b63-eb63-b27cee0d2fbb",
        "colab": {
          "base_uri": "https://localhost:8080/"
        }
      },
      "source": [
        "emission.shape"
      ],
      "execution_count": null,
      "outputs": [
        {
          "output_type": "execute_result",
          "data": {
            "text/plain": [
              "(61, 15)"
            ]
          },
          "metadata": {
            "tags": []
          },
          "execution_count": 31
        }
      ]
    },
    {
      "cell_type": "markdown",
      "metadata": {
        "id": "V7A8UHNEkMl_"
      },
      "source": [
        "As you see `Qatar`, `Kuwait`,`UAE` and `Saudi Arabia`are top four countries which have most CO$_{2}$ emissions per capita for 2014. One thing which I want to mention here that is  top four countries which emit CO$_{2}$ are arabian countries. Lets check those countries average over remaining 57 countries dataset."
      ]
    },
    {
      "cell_type": "code",
      "metadata": {
        "id": "BA0Pgj7LB9Tv",
        "outputId": "b60aaa8c-a158-466c-dcfa-78a4302412bf",
        "colab": {
          "base_uri": "https://localhost:8080/"
        }
      },
      "source": [
        "arab_country = ['Qatar', 'Kuwait', 'United Arab Emirates', 'Saudi Arabia']\n",
        "arab_country_emission =  emission[emission['geo'].isin(arab_country)]\n",
        "arab_country_emission\n"
      ],
      "execution_count": null,
      "outputs": [
        {
          "output_type": "execute_result",
          "data": {
            "text/html": [
              "<div>\n",
              "<style scoped>\n",
              "    .dataframe tbody tr th:only-of-type {\n",
              "        vertical-align: middle;\n",
              "    }\n",
              "\n",
              "    .dataframe tbody tr th {\n",
              "        vertical-align: top;\n",
              "    }\n",
              "\n",
              "    .dataframe thead th {\n",
              "        text-align: right;\n",
              "    }\n",
              "</style>\n",
              "<table border=\"1\" class=\"dataframe\">\n",
              "  <thead>\n",
              "    <tr style=\"text-align: right;\">\n",
              "      <th></th>\n",
              "      <th>geo</th>\n",
              "      <th>co2_emissions_tonnes_per_person</th>\n",
              "      <th>income_per_person_gdppercapita_ppp_inflation_adjusted</th>\n",
              "      <th>forest_coverage_percent</th>\n",
              "      <th>industry_percent_of_gdp</th>\n",
              "      <th>coal_consumption_per_cap</th>\n",
              "      <th>electricity_use_per_person</th>\n",
              "      <th>oil_consumption_per_cap</th>\n",
              "      <th>electricity_generation_per_person</th>\n",
              "      <th>yearly_co2_emissions_1000_tonnes</th>\n",
              "      <th>market_value_of_listed_companies_percent_of_gdp</th>\n",
              "      <th>exports_percent_of_gdp</th>\n",
              "      <th>imports_percent_of_gdp</th>\n",
              "      <th>eg_use_comm_cl_zs</th>\n",
              "      <th>population_total</th>\n",
              "    </tr>\n",
              "  </thead>\n",
              "  <tbody>\n",
              "    <tr>\n",
              "      <th>31</th>\n",
              "      <td>Kuwait</td>\n",
              "      <td>25.20</td>\n",
              "      <td>70800.0</td>\n",
              "      <td>0.35</td>\n",
              "      <td>70.5</td>\n",
              "      <td>0.00000</td>\n",
              "      <td>15200.0</td>\n",
              "      <td>5.55</td>\n",
              "      <td>17200.0</td>\n",
              "      <td>95400.0</td>\n",
              "      <td>0.788394</td>\n",
              "      <td>0.685</td>\n",
              "      <td>0.315</td>\n",
              "      <td>0.00000</td>\n",
              "      <td>3690000.0</td>\n",
              "    </tr>\n",
              "    <tr>\n",
              "      <th>42</th>\n",
              "      <td>Qatar</td>\n",
              "      <td>33.28</td>\n",
              "      <td>96580.0</td>\n",
              "      <td>0.00</td>\n",
              "      <td>69.8</td>\n",
              "      <td>0.00000</td>\n",
              "      <td>15300.0</td>\n",
              "      <td>4.10</td>\n",
              "      <td>16300.0</td>\n",
              "      <td>108000.0</td>\n",
              "      <td>0.901000</td>\n",
              "      <td>0.680</td>\n",
              "      <td>0.310</td>\n",
              "      <td>0.00000</td>\n",
              "      <td>2460000.0</td>\n",
              "    </tr>\n",
              "    <tr>\n",
              "      <th>45</th>\n",
              "      <td>Saudi Arabia</td>\n",
              "      <td>19.50</td>\n",
              "      <td>50000.0</td>\n",
              "      <td>0.45</td>\n",
              "      <td>57.2</td>\n",
              "      <td>0.00458</td>\n",
              "      <td>9440.0</td>\n",
              "      <td>5.19</td>\n",
              "      <td>10100.0</td>\n",
              "      <td>601000.0</td>\n",
              "      <td>0.639000</td>\n",
              "      <td>0.469</td>\n",
              "      <td>0.338</td>\n",
              "      <td>0.00004</td>\n",
              "      <td>30900000.0</td>\n",
              "    </tr>\n",
              "    <tr>\n",
              "      <th>56</th>\n",
              "      <td>United Arab Emirates</td>\n",
              "      <td>23.30</td>\n",
              "      <td>64100.0</td>\n",
              "      <td>3.85</td>\n",
              "      <td>52.8</td>\n",
              "      <td>0.16100</td>\n",
              "      <td>11300.0</td>\n",
              "      <td>4.26</td>\n",
              "      <td>12800.0</td>\n",
              "      <td>211000.0</td>\n",
              "      <td>0.509000</td>\n",
              "      <td>0.996</td>\n",
              "      <td>0.689</td>\n",
              "      <td>0.09690</td>\n",
              "      <td>9210000.0</td>\n",
              "    </tr>\n",
              "  </tbody>\n",
              "</table>\n",
              "</div>"
            ],
            "text/plain": [
              "                     geo  ...  population_total\n",
              "31                Kuwait  ...         3690000.0\n",
              "42                 Qatar  ...         2460000.0\n",
              "45          Saudi Arabia  ...        30900000.0\n",
              "56  United Arab Emirates  ...         9210000.0\n",
              "\n",
              "[4 rows x 15 columns]"
            ]
          },
          "metadata": {
            "tags": []
          },
          "execution_count": 32
        }
      ]
    },
    {
      "cell_type": "code",
      "metadata": {
        "id": "jNTtX2ZvGmoE",
        "outputId": "40ec916f-8aac-4045-855b-ec741fc18951",
        "colab": {
          "base_uri": "https://localhost:8080/"
        }
      },
      "source": [
        "arab_country_emission['co2_emissions_tonnes_per_person'].mean()"
      ],
      "execution_count": null,
      "outputs": [
        {
          "output_type": "execute_result",
          "data": {
            "text/plain": [
              "25.319999999999993"
            ]
          },
          "metadata": {
            "tags": []
          },
          "execution_count": 33
        }
      ]
    },
    {
      "cell_type": "code",
      "metadata": {
        "id": "IFsX-TZ-G9E-"
      },
      "source": [
        "emission_country = emission.set_index('geo')\n",
        "rest_countries = emission_country.drop(arab_country, axis=0)"
      ],
      "execution_count": null,
      "outputs": []
    },
    {
      "cell_type": "code",
      "metadata": {
        "id": "1NHyvrJWJCqd",
        "outputId": "3a6b2511-a279-411b-b979-e241377c4537",
        "colab": {
          "base_uri": "https://localhost:8080/"
        }
      },
      "source": [
        "rest_countries['co2_emissions_tonnes_per_person'].mean()"
      ],
      "execution_count": null,
      "outputs": [
        {
          "output_type": "execute_result",
          "data": {
            "text/plain": [
              "6.340087719298245"
            ]
          },
          "metadata": {
            "tags": []
          },
          "execution_count": 35
        }
      ]
    },
    {
      "cell_type": "markdown",
      "metadata": {
        "id": "v3QbJueAJX1H"
      },
      "source": [
        "As you can notice that in 2014 CO$_{2}$ emission per person for the `Qatar`, `Kuwait`,`UAE` and `Saudi Arabia` is 25.32 tonnes per person while rest 57 countries has 6.34 tonnes/person on average.  \n",
        "That means in 2014 this 4 countries had emitted almost 4 times the rest of the 57 countries emission on average."
      ]
    },
    {
      "cell_type": "markdown",
      "metadata": {
        "id": "RV6jqshsmtWn"
      },
      "source": [
        "### Data Preprocessing "
      ]
    },
    {
      "cell_type": "code",
      "metadata": {
        "id": "EiiL-N64kB9b",
        "outputId": "2c6968c2-f80b-4947-c435-f9c30a2c589e",
        "colab": {
          "base_uri": "https://localhost:8080/"
        }
      },
      "source": [
        "emission.describe()"
      ],
      "execution_count": null,
      "outputs": [
        {
          "output_type": "execute_result",
          "data": {
            "text/html": [
              "<div>\n",
              "<style scoped>\n",
              "    .dataframe tbody tr th:only-of-type {\n",
              "        vertical-align: middle;\n",
              "    }\n",
              "\n",
              "    .dataframe tbody tr th {\n",
              "        vertical-align: top;\n",
              "    }\n",
              "\n",
              "    .dataframe thead th {\n",
              "        text-align: right;\n",
              "    }\n",
              "</style>\n",
              "<table border=\"1\" class=\"dataframe\">\n",
              "  <thead>\n",
              "    <tr style=\"text-align: right;\">\n",
              "      <th></th>\n",
              "      <th>co2_emissions_tonnes_per_person</th>\n",
              "      <th>income_per_person_gdppercapita_ppp_inflation_adjusted</th>\n",
              "      <th>forest_coverage_percent</th>\n",
              "      <th>industry_percent_of_gdp</th>\n",
              "      <th>coal_consumption_per_cap</th>\n",
              "      <th>electricity_use_per_person</th>\n",
              "      <th>oil_consumption_per_cap</th>\n",
              "      <th>electricity_generation_per_person</th>\n",
              "      <th>yearly_co2_emissions_1000_tonnes</th>\n",
              "      <th>market_value_of_listed_companies_percent_of_gdp</th>\n",
              "      <th>exports_percent_of_gdp</th>\n",
              "      <th>imports_percent_of_gdp</th>\n",
              "      <th>eg_use_comm_cl_zs</th>\n",
              "      <th>population_total</th>\n",
              "    </tr>\n",
              "  </thead>\n",
              "  <tbody>\n",
              "    <tr>\n",
              "      <th>count</th>\n",
              "      <td>61.000000</td>\n",
              "      <td>61.000000</td>\n",
              "      <td>61.000000</td>\n",
              "      <td>61.000000</td>\n",
              "      <td>61.000000</td>\n",
              "      <td>61.000000</td>\n",
              "      <td>61.000000</td>\n",
              "      <td>61.000000</td>\n",
              "      <td>6.100000e+01</td>\n",
              "      <td>61.000000</td>\n",
              "      <td>61.000000</td>\n",
              "      <td>61.000000</td>\n",
              "      <td>61.000000</td>\n",
              "      <td>6.100000e+01</td>\n",
              "    </tr>\n",
              "    <tr>\n",
              "      <th>mean</th>\n",
              "      <td>7.584672</td>\n",
              "      <td>29795.081967</td>\n",
              "      <td>29.303934</td>\n",
              "      <td>30.688525</td>\n",
              "      <td>0.464082</td>\n",
              "      <td>5834.557377</td>\n",
              "      <td>1.378723</td>\n",
              "      <td>6267.442623</td>\n",
              "      <td>4.784918e+05</td>\n",
              "      <td>0.711994</td>\n",
              "      <td>0.442754</td>\n",
              "      <td>0.406246</td>\n",
              "      <td>9.941509</td>\n",
              "      <td>9.400885e+07</td>\n",
              "    </tr>\n",
              "    <tr>\n",
              "      <th>std</th>\n",
              "      <td>6.088109</td>\n",
              "      <td>19599.460590</td>\n",
              "      <td>19.956345</td>\n",
              "      <td>11.639961</td>\n",
              "      <td>0.524114</td>\n",
              "      <td>4348.983742</td>\n",
              "      <td>1.453020</td>\n",
              "      <td>4780.690761</td>\n",
              "      <td>1.155916e+06</td>\n",
              "      <td>0.553158</td>\n",
              "      <td>0.273442</td>\n",
              "      <td>0.224494</td>\n",
              "      <td>11.596178</td>\n",
              "      <td>2.364896e+08</td>\n",
              "    </tr>\n",
              "    <tr>\n",
              "      <th>min</th>\n",
              "      <td>0.459000</td>\n",
              "      <td>2970.000000</td>\n",
              "      <td>0.000000</td>\n",
              "      <td>14.100000</td>\n",
              "      <td>0.000000</td>\n",
              "      <td>310.000000</td>\n",
              "      <td>0.036100</td>\n",
              "      <td>350.000000</td>\n",
              "      <td>3.070000e+04</td>\n",
              "      <td>0.000787</td>\n",
              "      <td>0.110000</td>\n",
              "      <td>0.137000</td>\n",
              "      <td>0.000000</td>\n",
              "      <td>2.460000e+06</td>\n",
              "    </tr>\n",
              "    <tr>\n",
              "      <th>25%</th>\n",
              "      <td>4.290000</td>\n",
              "      <td>15400.000000</td>\n",
              "      <td>12.900000</td>\n",
              "      <td>22.800000</td>\n",
              "      <td>0.083000</td>\n",
              "      <td>2600.000000</td>\n",
              "      <td>0.495000</td>\n",
              "      <td>3000.000000</td>\n",
              "      <td>6.170000e+04</td>\n",
              "      <td>0.301000</td>\n",
              "      <td>0.238000</td>\n",
              "      <td>0.260000</td>\n",
              "      <td>1.500000</td>\n",
              "      <td>9.510000e+06</td>\n",
              "    </tr>\n",
              "    <tr>\n",
              "      <th>50%</th>\n",
              "      <td>5.980000</td>\n",
              "      <td>24300.000000</td>\n",
              "      <td>30.800000</td>\n",
              "      <td>27.700000</td>\n",
              "      <td>0.262000</td>\n",
              "      <td>5000.000000</td>\n",
              "      <td>1.060000</td>\n",
              "      <td>5020.000000</td>\n",
              "      <td>1.670000e+05</td>\n",
              "      <td>0.573000</td>\n",
              "      <td>0.335000</td>\n",
              "      <td>0.319000</td>\n",
              "      <td>5.420000</td>\n",
              "      <td>3.010000e+07</td>\n",
              "    </tr>\n",
              "    <tr>\n",
              "      <th>75%</th>\n",
              "      <td>8.980000</td>\n",
              "      <td>42900.000000</td>\n",
              "      <td>40.300000</td>\n",
              "      <td>34.700000</td>\n",
              "      <td>0.609000</td>\n",
              "      <td>7710.000000</td>\n",
              "      <td>1.490000</td>\n",
              "      <td>8290.000000</td>\n",
              "      <td>3.610000e+05</td>\n",
              "      <td>0.895000</td>\n",
              "      <td>0.549000</td>\n",
              "      <td>0.501000</td>\n",
              "      <td>13.500000</td>\n",
              "      <td>7.720000e+07</td>\n",
              "    </tr>\n",
              "    <tr>\n",
              "      <th>max</th>\n",
              "      <td>33.280000</td>\n",
              "      <td>96580.000000</td>\n",
              "      <td>73.100000</td>\n",
              "      <td>70.500000</td>\n",
              "      <td>2.028000</td>\n",
              "      <td>18500.000000</td>\n",
              "      <td>8.170000</td>\n",
              "      <td>21960.000000</td>\n",
              "      <td>7.270000e+06</td>\n",
              "      <td>2.498000</td>\n",
              "      <td>1.428000</td>\n",
              "      <td>1.228000</td>\n",
              "      <td>48.340000</td>\n",
              "      <td>1.340000e+09</td>\n",
              "    </tr>\n",
              "  </tbody>\n",
              "</table>\n",
              "</div>"
            ],
            "text/plain": [
              "       co2_emissions_tonnes_per_person  ...  population_total\n",
              "count                        61.000000  ...      6.100000e+01\n",
              "mean                          7.584672  ...      9.400885e+07\n",
              "std                           6.088109  ...      2.364896e+08\n",
              "min                           0.459000  ...      2.460000e+06\n",
              "25%                           4.290000  ...      9.510000e+06\n",
              "50%                           5.980000  ...      3.010000e+07\n",
              "75%                           8.980000  ...      7.720000e+07\n",
              "max                          33.280000  ...      1.340000e+09\n",
              "\n",
              "[8 rows x 14 columns]"
            ]
          },
          "metadata": {
            "tags": []
          },
          "execution_count": 36
        }
      ]
    },
    {
      "cell_type": "markdown",
      "metadata": {
        "id": "d4NOF290pwnK"
      },
      "source": [
        "As you noticed each feature has different unit representation and values are differ by large values across features. So we need to bring them on the same scale. That's why we need pre-processing of data. "
      ]
    },
    {
      "cell_type": "markdown",
      "metadata": {
        "id": "CxSUnb9J9twW"
      },
      "source": [
        "#### Scale the Data"
      ]
    },
    {
      "cell_type": "code",
      "metadata": {
        "id": "bdTS-K9xpss_"
      },
      "source": [
        "# import required library to preprocess the data\n",
        "from sklearn.model_selection import train_test_split\n",
        "from sklearn.preprocessing import StandardScaler, MinMaxScaler"
      ],
      "execution_count": null,
      "outputs": []
    },
    {
      "cell_type": "code",
      "metadata": {
        "id": "4FcpcQVxsJUH"
      },
      "source": [
        " scaling_df= emission.drop(['geo'], axis=1)"
      ],
      "execution_count": null,
      "outputs": []
    },
    {
      "cell_type": "code",
      "metadata": {
        "id": "6YfTwTMLsW51"
      },
      "source": [
        "scaler = StandardScaler() # instantiation of scaler method"
      ],
      "execution_count": null,
      "outputs": []
    },
    {
      "cell_type": "code",
      "metadata": {
        "id": "csumaHm_tPv9"
      },
      "source": [
        "scaled_df = scaler.fit_transform(scaling_df)"
      ],
      "execution_count": null,
      "outputs": []
    },
    {
      "cell_type": "code",
      "metadata": {
        "id": "TlauuuGY1xG4",
        "outputId": "7078155a-9345-41d4-e51e-c3b2634d8b99",
        "colab": {
          "base_uri": "https://localhost:8080/"
        }
      },
      "source": [
        "column = emission.drop(['geo'], axis=1).columns\n",
        "scaled_df = pd.DataFrame(scaled_df,columns=column)\n",
        "scaled_df.describe()"
      ],
      "execution_count": null,
      "outputs": [
        {
          "output_type": "execute_result",
          "data": {
            "text/html": [
              "<div>\n",
              "<style scoped>\n",
              "    .dataframe tbody tr th:only-of-type {\n",
              "        vertical-align: middle;\n",
              "    }\n",
              "\n",
              "    .dataframe tbody tr th {\n",
              "        vertical-align: top;\n",
              "    }\n",
              "\n",
              "    .dataframe thead th {\n",
              "        text-align: right;\n",
              "    }\n",
              "</style>\n",
              "<table border=\"1\" class=\"dataframe\">\n",
              "  <thead>\n",
              "    <tr style=\"text-align: right;\">\n",
              "      <th></th>\n",
              "      <th>co2_emissions_tonnes_per_person</th>\n",
              "      <th>income_per_person_gdppercapita_ppp_inflation_adjusted</th>\n",
              "      <th>forest_coverage_percent</th>\n",
              "      <th>industry_percent_of_gdp</th>\n",
              "      <th>coal_consumption_per_cap</th>\n",
              "      <th>electricity_use_per_person</th>\n",
              "      <th>oil_consumption_per_cap</th>\n",
              "      <th>electricity_generation_per_person</th>\n",
              "      <th>yearly_co2_emissions_1000_tonnes</th>\n",
              "      <th>market_value_of_listed_companies_percent_of_gdp</th>\n",
              "      <th>exports_percent_of_gdp</th>\n",
              "      <th>imports_percent_of_gdp</th>\n",
              "      <th>eg_use_comm_cl_zs</th>\n",
              "      <th>population_total</th>\n",
              "    </tr>\n",
              "  </thead>\n",
              "  <tbody>\n",
              "    <tr>\n",
              "      <th>count</th>\n",
              "      <td>6.100000e+01</td>\n",
              "      <td>6.100000e+01</td>\n",
              "      <td>6.100000e+01</td>\n",
              "      <td>6.100000e+01</td>\n",
              "      <td>6.100000e+01</td>\n",
              "      <td>6.100000e+01</td>\n",
              "      <td>6.100000e+01</td>\n",
              "      <td>6.100000e+01</td>\n",
              "      <td>61.000000</td>\n",
              "      <td>6.100000e+01</td>\n",
              "      <td>6.100000e+01</td>\n",
              "      <td>6.100000e+01</td>\n",
              "      <td>6.100000e+01</td>\n",
              "      <td>6.100000e+01</td>\n",
              "    </tr>\n",
              "    <tr>\n",
              "      <th>mean</th>\n",
              "      <td>1.092023e-16</td>\n",
              "      <td>-4.004083e-17</td>\n",
              "      <td>-1.310427e-16</td>\n",
              "      <td>1.260376e-16</td>\n",
              "      <td>6.916143e-17</td>\n",
              "      <td>2.912060e-17</td>\n",
              "      <td>7.644159e-17</td>\n",
              "      <td>-9.100189e-17</td>\n",
              "      <td>0.000000</td>\n",
              "      <td>3.130465e-16</td>\n",
              "      <td>-1.565232e-16</td>\n",
              "      <td>-3.567274e-16</td>\n",
              "      <td>-2.602654e-16</td>\n",
              "      <td>-3.989864e-17</td>\n",
              "    </tr>\n",
              "    <tr>\n",
              "      <th>std</th>\n",
              "      <td>1.008299e+00</td>\n",
              "      <td>1.008299e+00</td>\n",
              "      <td>1.008299e+00</td>\n",
              "      <td>1.008299e+00</td>\n",
              "      <td>1.008299e+00</td>\n",
              "      <td>1.008299e+00</td>\n",
              "      <td>1.008299e+00</td>\n",
              "      <td>1.008299e+00</td>\n",
              "      <td>1.008299</td>\n",
              "      <td>1.008299e+00</td>\n",
              "      <td>1.008299e+00</td>\n",
              "      <td>1.008299e+00</td>\n",
              "      <td>1.008299e+00</td>\n",
              "      <td>1.008299e+00</td>\n",
              "    </tr>\n",
              "    <tr>\n",
              "      <th>min</th>\n",
              "      <td>-1.180138e+00</td>\n",
              "      <td>-1.380023e+00</td>\n",
              "      <td>-1.480588e+00</td>\n",
              "      <td>-1.436963e+00</td>\n",
              "      <td>-8.928084e-01</td>\n",
              "      <td>-1.280852e+00</td>\n",
              "      <td>-9.316909e-01</td>\n",
              "      <td>-1.248052e+00</td>\n",
              "      <td>-0.390606</td>\n",
              "      <td>-1.296392e+00</td>\n",
              "      <td>-1.227008e+00</td>\n",
              "      <td>-1.209298e+00</td>\n",
              "      <td>-8.644238e-01</td>\n",
              "      <td>-3.903284e-01</td>\n",
              "    </tr>\n",
              "    <tr>\n",
              "      <th>25%</th>\n",
              "      <td>-5.456562e-01</td>\n",
              "      <td>-7.405584e-01</td>\n",
              "      <td>-8.288125e-01</td>\n",
              "      <td>-6.833348e-01</td>\n",
              "      <td>-7.331318e-01</td>\n",
              "      <td>-7.499225e-01</td>\n",
              "      <td>-6.132448e-01</td>\n",
              "      <td>-6.891387e-01</td>\n",
              "      <td>-0.363565</td>\n",
              "      <td>-7.491620e-01</td>\n",
              "      <td>-7.550166e-01</td>\n",
              "      <td>-6.568527e-01</td>\n",
              "      <td>-7.339974e-01</td>\n",
              "      <td>-3.602699e-01</td>\n",
              "    </tr>\n",
              "    <tr>\n",
              "      <th>50%</th>\n",
              "      <td>-2.657622e-01</td>\n",
              "      <td>-2.826958e-01</td>\n",
              "      <td>7.558906e-02</td>\n",
              "      <td>-2.588777e-01</td>\n",
              "      <td>-3.887688e-01</td>\n",
              "      <td>-1.934896e-01</td>\n",
              "      <td>-2.211725e-01</td>\n",
              "      <td>-2.630990e-01</td>\n",
              "      <td>-0.271713</td>\n",
              "      <td>-2.533587e-01</td>\n",
              "      <td>-3.973358e-01</td>\n",
              "      <td>-3.918585e-01</td>\n",
              "      <td>-3.931496e-01</td>\n",
              "      <td>-2.724822e-01</td>\n",
              "    </tr>\n",
              "    <tr>\n",
              "      <th>75%</th>\n",
              "      <td>2.310911e-01</td>\n",
              "      <td>6.741856e-01</td>\n",
              "      <td>5.555787e-01</td>\n",
              "      <td>3.474897e-01</td>\n",
              "      <td>2.787953e-01</td>\n",
              "      <td>4.348158e-01</td>\n",
              "      <td>7.721886e-02</td>\n",
              "      <td>4.265790e-01</td>\n",
              "      <td>-0.102487</td>\n",
              "      <td>3.335848e-01</td>\n",
              "      <td>3.917744e-01</td>\n",
              "      <td>4.255810e-01</td>\n",
              "      <td>3.094142e-01</td>\n",
              "      <td>-7.166635e-02</td>\n",
              "    </tr>\n",
              "    <tr>\n",
              "      <th>max</th>\n",
              "      <td>4.255602e+00</td>\n",
              "      <td>3.435766e+00</td>\n",
              "      <td>2.212806e+00</td>\n",
              "      <td>3.448625e+00</td>\n",
              "      <td>3.008690e+00</td>\n",
              "      <td>2.936445e+00</td>\n",
              "      <td>4.712694e+00</td>\n",
              "      <td>3.309728e+00</td>\n",
              "      <td>5.924196</td>\n",
              "      <td>3.255543e+00</td>\n",
              "      <td>3.633026e+00</td>\n",
              "      <td>3.690848e+00</td>\n",
              "      <td>3.338786e+00</td>\n",
              "      <td>5.312417e+00</td>\n",
              "    </tr>\n",
              "  </tbody>\n",
              "</table>\n",
              "</div>"
            ],
            "text/plain": [
              "       co2_emissions_tonnes_per_person  ...  population_total\n",
              "count                     6.100000e+01  ...      6.100000e+01\n",
              "mean                      1.092023e-16  ...     -3.989864e-17\n",
              "std                       1.008299e+00  ...      1.008299e+00\n",
              "min                      -1.180138e+00  ...     -3.903284e-01\n",
              "25%                      -5.456562e-01  ...     -3.602699e-01\n",
              "50%                      -2.657622e-01  ...     -2.724822e-01\n",
              "75%                       2.310911e-01  ...     -7.166635e-02\n",
              "max                       4.255602e+00  ...      5.312417e+00\n",
              "\n",
              "[8 rows x 14 columns]"
            ]
          },
          "metadata": {
            "tags": []
          },
          "execution_count": 41
        }
      ]
    },
    {
      "cell_type": "markdown",
      "metadata": {
        "id": "_XAKxPqU5D3X"
      },
      "source": [
        "#### Splitting data into X_train and y_train  \n",
        "Since rule of thumb for test dataset size is atleast 100 observations; but we don't have 100 obseravtions in our total dataset. So we don't split it into test dataset.   \n",
        "And another reason is that since our problem statment states that we need to find features which are most contributing to CO$_{2}$ emissions for 2014. "
      ]
    },
    {
      "cell_type": "code",
      "metadata": {
        "id": "zT58OcDQ1zJi",
        "outputId": "7065a9f3-9d8c-4a8e-f707-e32201895bba",
        "colab": {
          "base_uri": "https://localhost:8080/"
        }
      },
      "source": [
        "scaled_df.head()"
      ],
      "execution_count": null,
      "outputs": [
        {
          "output_type": "execute_result",
          "data": {
            "text/html": [
              "<div>\n",
              "<style scoped>\n",
              "    .dataframe tbody tr th:only-of-type {\n",
              "        vertical-align: middle;\n",
              "    }\n",
              "\n",
              "    .dataframe tbody tr th {\n",
              "        vertical-align: top;\n",
              "    }\n",
              "\n",
              "    .dataframe thead th {\n",
              "        text-align: right;\n",
              "    }\n",
              "</style>\n",
              "<table border=\"1\" class=\"dataframe\">\n",
              "  <thead>\n",
              "    <tr style=\"text-align: right;\">\n",
              "      <th></th>\n",
              "      <th>co2_emissions_tonnes_per_person</th>\n",
              "      <th>income_per_person_gdppercapita_ppp_inflation_adjusted</th>\n",
              "      <th>forest_coverage_percent</th>\n",
              "      <th>industry_percent_of_gdp</th>\n",
              "      <th>coal_consumption_per_cap</th>\n",
              "      <th>electricity_use_per_person</th>\n",
              "      <th>oil_consumption_per_cap</th>\n",
              "      <th>electricity_generation_per_person</th>\n",
              "      <th>yearly_co2_emissions_1000_tonnes</th>\n",
              "      <th>market_value_of_listed_companies_percent_of_gdp</th>\n",
              "      <th>exports_percent_of_gdp</th>\n",
              "      <th>imports_percent_of_gdp</th>\n",
              "      <th>eg_use_comm_cl_zs</th>\n",
              "      <th>population_total</th>\n",
              "    </tr>\n",
              "  </thead>\n",
              "  <tbody>\n",
              "    <tr>\n",
              "      <th>0</th>\n",
              "      <td>-0.640058</td>\n",
              "      <td>-0.838304</td>\n",
              "      <td>-1.439157</td>\n",
              "      <td>1.005831</td>\n",
              "      <td>-0.883997</td>\n",
              "      <td>-1.037413</td>\n",
              "      <td>-0.643084</td>\n",
              "      <td>-0.975977</td>\n",
              "      <td>-0.290903</td>\n",
              "      <td>-1.296392</td>\n",
              "      <td>-0.519021</td>\n",
              "      <td>-0.391859</td>\n",
              "      <td>-0.861807</td>\n",
              "      <td>-0.234963</td>\n",
              "    </tr>\n",
              "    <tr>\n",
              "      <th>1</th>\n",
              "      <td>-0.469472</td>\n",
              "      <td>-0.565645</td>\n",
              "      <td>-0.975336</td>\n",
              "      <td>-0.553399</td>\n",
              "      <td>-0.826244</td>\n",
              "      <td>-0.645591</td>\n",
              "      <td>-0.450864</td>\n",
              "      <td>-0.627975</td>\n",
              "      <td>-0.239438</td>\n",
              "      <td>-1.090027</td>\n",
              "      <td>-1.101635</td>\n",
              "      <td>-1.195824</td>\n",
              "      <td>-0.386194</td>\n",
              "      <td>-0.219187</td>\n",
              "    </tr>\n",
              "    <tr>\n",
              "      <th>2</th>\n",
              "      <td>1.294357</td>\n",
              "      <td>0.699908</td>\n",
              "      <td>-0.662079</td>\n",
              "      <td>-0.458113</td>\n",
              "      <td>2.608536</td>\n",
              "      <td>0.988930</td>\n",
              "      <td>0.465822</td>\n",
              "      <td>0.892692</td>\n",
              "      <td>-0.102487</td>\n",
              "      <td>0.302597</td>\n",
              "      <td>-0.858265</td>\n",
              "      <td>-0.858967</td>\n",
              "      <td>-0.658350</td>\n",
              "      <td>-0.300196</td>\n",
              "    </tr>\n",
              "    <tr>\n",
              "      <th>3</th>\n",
              "      <td>-0.129956</td>\n",
              "      <td>0.735920</td>\n",
              "      <td>0.889045</td>\n",
              "      <td>-0.458113</td>\n",
              "      <td>-0.225244</td>\n",
              "      <td>0.585516</td>\n",
              "      <td>0.042522</td>\n",
              "      <td>0.268396</td>\n",
              "      <td>-0.366182</td>\n",
              "      <td>-0.898632</td>\n",
              "      <td>0.336463</td>\n",
              "      <td>0.425581</td>\n",
              "      <td>0.283329</td>\n",
              "      <td>-0.364065</td>\n",
              "    </tr>\n",
              "    <tr>\n",
              "      <th>4</th>\n",
              "      <td>-0.603622</td>\n",
              "      <td>-0.673680</td>\n",
              "      <td>-0.798497</td>\n",
              "      <td>1.984681</td>\n",
              "      <td>-0.892481</td>\n",
              "      <td>-0.842661</td>\n",
              "      <td>-0.631981</td>\n",
              "      <td>-0.773503</td>\n",
              "      <td>-0.384675</td>\n",
              "      <td>-0.805941</td>\n",
              "      <td>-0.035968</td>\n",
              "      <td>-0.647870</td>\n",
              "      <td>-0.814688</td>\n",
              "      <td>-0.360270</td>\n",
              "    </tr>\n",
              "  </tbody>\n",
              "</table>\n",
              "</div>"
            ],
            "text/plain": [
              "   co2_emissions_tonnes_per_person  ...  population_total\n",
              "0                        -0.640058  ...         -0.234963\n",
              "1                        -0.469472  ...         -0.219187\n",
              "2                         1.294357  ...         -0.300196\n",
              "3                        -0.129956  ...         -0.364065\n",
              "4                        -0.603622  ...         -0.360270\n",
              "\n",
              "[5 rows x 14 columns]"
            ]
          },
          "metadata": {
            "tags": []
          },
          "execution_count": 42
        }
      ]
    },
    {
      "cell_type": "code",
      "metadata": {
        "id": "uedNpr1Y9GsQ"
      },
      "source": [
        "X_train = scaled_df.drop(\"co2_emissions_tonnes_per_person\", axis=1)\n",
        "y_train = scaled_df[\"co2_emissions_tonnes_per_person\"]"
      ],
      "execution_count": null,
      "outputs": []
    },
    {
      "cell_type": "code",
      "metadata": {
        "id": "zoVSAP4i9bdK",
        "outputId": "4b2078ba-b89e-40ec-9984-85eba5b03533",
        "colab": {
          "base_uri": "https://localhost:8080/"
        }
      },
      "source": [
        "X_train.shape"
      ],
      "execution_count": null,
      "outputs": [
        {
          "output_type": "execute_result",
          "data": {
            "text/plain": [
              "(61, 13)"
            ]
          },
          "metadata": {
            "tags": []
          },
          "execution_count": 44
        }
      ]
    },
    {
      "cell_type": "code",
      "metadata": {
        "id": "SUvLN_Tp9ey_",
        "outputId": "820bc4ab-5738-4b68-aef8-8767de909260",
        "colab": {
          "base_uri": "https://localhost:8080/"
        }
      },
      "source": [
        "y_train.shape"
      ],
      "execution_count": null,
      "outputs": [
        {
          "output_type": "execute_result",
          "data": {
            "text/plain": [
              "(61,)"
            ]
          },
          "metadata": {
            "tags": []
          },
          "execution_count": 45
        }
      ]
    },
    {
      "cell_type": "markdown",
      "metadata": {
        "id": "9L1Kn_K093kh"
      },
      "source": [
        "### Model Build"
      ]
    },
    {
      "cell_type": "code",
      "metadata": {
        "id": "91VQpknY97pT"
      },
      "source": [
        "# import required library \n",
        "from sklearn.linear_model import Lasso\n",
        "from sklearn.metrics import r2_score\n",
        "from sklearn.model_selection import GridSearchCV, KFold"
      ],
      "execution_count": null,
      "outputs": []
    },
    {
      "cell_type": "markdown",
      "metadata": {
        "id": "qxgKPqOGZJR_"
      },
      "source": [
        "###### Lasso Regression"
      ]
    },
    {
      "cell_type": "code",
      "metadata": {
        "id": "m0Vavnyu-16S"
      },
      "source": [
        "lasso_reg = Lasso(alpha=0.001, random_state= 42)"
      ],
      "execution_count": null,
      "outputs": []
    },
    {
      "cell_type": "code",
      "metadata": {
        "id": "GgQAr1FV_EvO"
      },
      "source": [
        "lasso_reg.fit(X_train, y_train)\n",
        "y_train_pred = lasso_reg.predict(X_train)"
      ],
      "execution_count": null,
      "outputs": []
    },
    {
      "cell_type": "code",
      "metadata": {
        "id": "84Lbeedr_suA",
        "outputId": "f26a756a-a127-4374-aa4a-664e15783f9d",
        "colab": {
          "base_uri": "https://localhost:8080/"
        }
      },
      "source": [
        "r2_score(y_train, y_train_pred)"
      ],
      "execution_count": null,
      "outputs": [
        {
          "output_type": "execute_result",
          "data": {
            "text/plain": [
              "0.8931124707793751"
            ]
          },
          "metadata": {
            "tags": []
          },
          "execution_count": 49
        }
      ]
    },
    {
      "cell_type": "code",
      "metadata": {
        "id": "0fa6u52LAMi9"
      },
      "source": [
        "# lasso model parameters\n",
        "model_parameters = list(lasso_reg.coef_)\n",
        "model_parameters.insert(0, lasso_reg.intercept_)\n",
        "model_parameters = [round(x, 3) for x in model_parameters]\n",
        "features = X_train.columns\n",
        "features = features.insert(0, \"constant\")\n",
        "model_param = pd.DataFrame([features, model_parameters])"
      ],
      "execution_count": null,
      "outputs": []
    },
    {
      "cell_type": "code",
      "metadata": {
        "id": "Rk4wkPC3AQUB",
        "outputId": "c389017b-509b-4ddd-961c-9ee0cad91870",
        "colab": {
          "base_uri": "https://localhost:8080/"
        }
      },
      "source": [
        "model_param = model_param.T\n",
        "model_param.columns = ['Features', 'parameter']\n",
        "model_param.set_index('Features')"
      ],
      "execution_count": null,
      "outputs": [
        {
          "output_type": "execute_result",
          "data": {
            "text/html": [
              "<div>\n",
              "<style scoped>\n",
              "    .dataframe tbody tr th:only-of-type {\n",
              "        vertical-align: middle;\n",
              "    }\n",
              "\n",
              "    .dataframe tbody tr th {\n",
              "        vertical-align: top;\n",
              "    }\n",
              "\n",
              "    .dataframe thead th {\n",
              "        text-align: right;\n",
              "    }\n",
              "</style>\n",
              "<table border=\"1\" class=\"dataframe\">\n",
              "  <thead>\n",
              "    <tr style=\"text-align: right;\">\n",
              "      <th></th>\n",
              "      <th>parameter</th>\n",
              "    </tr>\n",
              "    <tr>\n",
              "      <th>Features</th>\n",
              "      <th></th>\n",
              "    </tr>\n",
              "  </thead>\n",
              "  <tbody>\n",
              "    <tr>\n",
              "      <th>constant</th>\n",
              "      <td>-0</td>\n",
              "    </tr>\n",
              "    <tr>\n",
              "      <th>income_per_person_gdppercapita_ppp_inflation_adjusted</th>\n",
              "      <td>0.271</td>\n",
              "    </tr>\n",
              "    <tr>\n",
              "      <th>forest_coverage_percent</th>\n",
              "      <td>-0.1</td>\n",
              "    </tr>\n",
              "    <tr>\n",
              "      <th>industry_percent_of_gdp</th>\n",
              "      <td>0.292</td>\n",
              "    </tr>\n",
              "    <tr>\n",
              "      <th>coal_consumption_per_cap</th>\n",
              "      <td>0.243</td>\n",
              "    </tr>\n",
              "    <tr>\n",
              "      <th>electricity_use_per_person</th>\n",
              "      <td>0.328</td>\n",
              "    </tr>\n",
              "    <tr>\n",
              "      <th>oil_consumption_per_cap</th>\n",
              "      <td>0.149</td>\n",
              "    </tr>\n",
              "    <tr>\n",
              "      <th>electricity_generation_per_person</th>\n",
              "      <td>0</td>\n",
              "    </tr>\n",
              "    <tr>\n",
              "      <th>yearly_co2_emissions_1000_tonnes</th>\n",
              "      <td>0.077</td>\n",
              "    </tr>\n",
              "    <tr>\n",
              "      <th>market_value_of_listed_companies_percent_of_gdp</th>\n",
              "      <td>-0.03</td>\n",
              "    </tr>\n",
              "    <tr>\n",
              "      <th>exports_percent_of_gdp</th>\n",
              "      <td>0.215</td>\n",
              "    </tr>\n",
              "    <tr>\n",
              "      <th>imports_percent_of_gdp</th>\n",
              "      <td>-0.266</td>\n",
              "    </tr>\n",
              "    <tr>\n",
              "      <th>eg_use_comm_cl_zs</th>\n",
              "      <td>-0.154</td>\n",
              "    </tr>\n",
              "    <tr>\n",
              "      <th>population_total</th>\n",
              "      <td>-0.104</td>\n",
              "    </tr>\n",
              "  </tbody>\n",
              "</table>\n",
              "</div>"
            ],
            "text/plain": [
              "                                                   parameter\n",
              "Features                                                    \n",
              "constant                                                  -0\n",
              "income_per_person_gdppercapita_ppp_inflation_ad...     0.271\n",
              "forest_coverage_percent                                 -0.1\n",
              "industry_percent_of_gdp                                0.292\n",
              "coal_consumption_per_cap                               0.243\n",
              "electricity_use_per_person                             0.328\n",
              "oil_consumption_per_cap                                0.149\n",
              "electricity_generation_per_person                          0\n",
              "yearly_co2_emissions_1000_tonnes                       0.077\n",
              "market_value_of_listed_companies_percent_of_gdp        -0.03\n",
              "exports_percent_of_gdp                                 0.215\n",
              "imports_percent_of_gdp                                -0.266\n",
              "eg_use_comm_cl_zs                                     -0.154\n",
              "population_total                                      -0.104"
            ]
          },
          "metadata": {
            "tags": []
          },
          "execution_count": 51
        }
      ]
    },
    {
      "cell_type": "markdown",
      "metadata": {
        "id": "oTew7RzTZT2e"
      },
      "source": [
        "##### Hyperparameter Tuning of Lasso Regression"
      ]
    },
    {
      "cell_type": "code",
      "metadata": {
        "id": "BfyUEpScBxdh",
        "outputId": "1c585ec1-cb38-47c6-ed8a-eb2e7de98fb9",
        "colab": {
          "base_uri": "https://localhost:8080/"
        }
      },
      "source": [
        "# grid search CV\n",
        "\n",
        "# set up cross validation scheme\n",
        "folds = KFold(n_splits = 3, shuffle = True, random_state = 42)\n",
        "\n",
        "# specify range of hyperparameters\n",
        "params = {'alpha': [0.001, 0.01, 1.0, 5.0, 10.0]}\n",
        "\n",
        "# grid search\n",
        "# lasso model\n",
        "model = Lasso(random_state=42)\n",
        "model_cv = GridSearchCV(estimator = model, param_grid = params, \n",
        "                        scoring= 'r2', \n",
        "                        cv = folds, \n",
        "                        return_train_score=True, verbose = 1)            \n",
        "model_cv.fit(X_train, y_train) "
      ],
      "execution_count": null,
      "outputs": [
        {
          "output_type": "stream",
          "text": [
            "Fitting 3 folds for each of 5 candidates, totalling 15 fits\n"
          ],
          "name": "stdout"
        },
        {
          "output_type": "stream",
          "text": [
            "[Parallel(n_jobs=1)]: Using backend SequentialBackend with 1 concurrent workers.\n",
            "[Parallel(n_jobs=1)]: Done  15 out of  15 | elapsed:    0.1s finished\n"
          ],
          "name": "stderr"
        },
        {
          "output_type": "execute_result",
          "data": {
            "text/plain": [
              "GridSearchCV(cv=KFold(n_splits=3, random_state=42, shuffle=True),\n",
              "             error_score=nan,\n",
              "             estimator=Lasso(alpha=1.0, copy_X=True, fit_intercept=True,\n",
              "                             max_iter=1000, normalize=False, positive=False,\n",
              "                             precompute=False, random_state=42,\n",
              "                             selection='cyclic', tol=0.0001, warm_start=False),\n",
              "             iid='deprecated', n_jobs=None,\n",
              "             param_grid={'alpha': [0.001, 0.01, 1.0, 5.0, 10.0]},\n",
              "             pre_dispatch='2*n_jobs', refit=True, return_train_score=True,\n",
              "             scoring='r2', verbose=1)"
            ]
          },
          "metadata": {
            "tags": []
          },
          "execution_count": 52
        }
      ]
    },
    {
      "cell_type": "code",
      "metadata": {
        "id": "IrFNwk3dH1Aw",
        "outputId": "f89c23f2-5600-43bf-80aa-f55f6f05bf83",
        "colab": {
          "base_uri": "https://localhost:8080/"
        }
      },
      "source": [
        "cv_results = pd.DataFrame(model_cv.cv_results_)\n",
        "cv_results.head()"
      ],
      "execution_count": null,
      "outputs": [
        {
          "output_type": "execute_result",
          "data": {
            "text/html": [
              "<div>\n",
              "<style scoped>\n",
              "    .dataframe tbody tr th:only-of-type {\n",
              "        vertical-align: middle;\n",
              "    }\n",
              "\n",
              "    .dataframe tbody tr th {\n",
              "        vertical-align: top;\n",
              "    }\n",
              "\n",
              "    .dataframe thead th {\n",
              "        text-align: right;\n",
              "    }\n",
              "</style>\n",
              "<table border=\"1\" class=\"dataframe\">\n",
              "  <thead>\n",
              "    <tr style=\"text-align: right;\">\n",
              "      <th></th>\n",
              "      <th>mean_fit_time</th>\n",
              "      <th>std_fit_time</th>\n",
              "      <th>mean_score_time</th>\n",
              "      <th>std_score_time</th>\n",
              "      <th>param_alpha</th>\n",
              "      <th>params</th>\n",
              "      <th>split0_test_score</th>\n",
              "      <th>split1_test_score</th>\n",
              "      <th>split2_test_score</th>\n",
              "      <th>mean_test_score</th>\n",
              "      <th>std_test_score</th>\n",
              "      <th>rank_test_score</th>\n",
              "      <th>split0_train_score</th>\n",
              "      <th>split1_train_score</th>\n",
              "      <th>split2_train_score</th>\n",
              "      <th>mean_train_score</th>\n",
              "      <th>std_train_score</th>\n",
              "    </tr>\n",
              "  </thead>\n",
              "  <tbody>\n",
              "    <tr>\n",
              "      <th>0</th>\n",
              "      <td>0.003100</td>\n",
              "      <td>0.000966</td>\n",
              "      <td>0.001803</td>\n",
              "      <td>0.001112</td>\n",
              "      <td>0.001</td>\n",
              "      <td>{'alpha': 0.001}</td>\n",
              "      <td>0.494350</td>\n",
              "      <td>0.690560</td>\n",
              "      <td>0.737054</td>\n",
              "      <td>0.640655</td>\n",
              "      <td>0.105180</td>\n",
              "      <td>2</td>\n",
              "      <td>0.946172</td>\n",
              "      <td>0.922774</td>\n",
              "      <td>0.887910</td>\n",
              "      <td>0.918952</td>\n",
              "      <td>0.023938</td>\n",
              "    </tr>\n",
              "    <tr>\n",
              "      <th>1</th>\n",
              "      <td>0.002395</td>\n",
              "      <td>0.000338</td>\n",
              "      <td>0.000967</td>\n",
              "      <td>0.000039</td>\n",
              "      <td>0.01</td>\n",
              "      <td>{'alpha': 0.01}</td>\n",
              "      <td>0.511643</td>\n",
              "      <td>0.728244</td>\n",
              "      <td>0.802000</td>\n",
              "      <td>0.680629</td>\n",
              "      <td>0.123227</td>\n",
              "      <td>1</td>\n",
              "      <td>0.941131</td>\n",
              "      <td>0.920462</td>\n",
              "      <td>0.872222</td>\n",
              "      <td>0.911272</td>\n",
              "      <td>0.028873</td>\n",
              "    </tr>\n",
              "    <tr>\n",
              "      <th>2</th>\n",
              "      <td>0.001963</td>\n",
              "      <td>0.000004</td>\n",
              "      <td>0.000947</td>\n",
              "      <td>0.000004</td>\n",
              "      <td>1</td>\n",
              "      <td>{'alpha': 1.0}</td>\n",
              "      <td>-0.082206</td>\n",
              "      <td>-0.000236</td>\n",
              "      <td>-0.038755</td>\n",
              "      <td>-0.040399</td>\n",
              "      <td>0.033484</td>\n",
              "      <td>3</td>\n",
              "      <td>0.000000</td>\n",
              "      <td>0.000000</td>\n",
              "      <td>0.000000</td>\n",
              "      <td>0.000000</td>\n",
              "      <td>0.000000</td>\n",
              "    </tr>\n",
              "    <tr>\n",
              "      <th>3</th>\n",
              "      <td>0.001989</td>\n",
              "      <td>0.000045</td>\n",
              "      <td>0.000959</td>\n",
              "      <td>0.000009</td>\n",
              "      <td>5</td>\n",
              "      <td>{'alpha': 5.0}</td>\n",
              "      <td>-0.082206</td>\n",
              "      <td>-0.000236</td>\n",
              "      <td>-0.038755</td>\n",
              "      <td>-0.040399</td>\n",
              "      <td>0.033484</td>\n",
              "      <td>3</td>\n",
              "      <td>0.000000</td>\n",
              "      <td>0.000000</td>\n",
              "      <td>0.000000</td>\n",
              "      <td>0.000000</td>\n",
              "      <td>0.000000</td>\n",
              "    </tr>\n",
              "    <tr>\n",
              "      <th>4</th>\n",
              "      <td>0.002467</td>\n",
              "      <td>0.000201</td>\n",
              "      <td>0.001085</td>\n",
              "      <td>0.000172</td>\n",
              "      <td>10</td>\n",
              "      <td>{'alpha': 10.0}</td>\n",
              "      <td>-0.082206</td>\n",
              "      <td>-0.000236</td>\n",
              "      <td>-0.038755</td>\n",
              "      <td>-0.040399</td>\n",
              "      <td>0.033484</td>\n",
              "      <td>3</td>\n",
              "      <td>0.000000</td>\n",
              "      <td>0.000000</td>\n",
              "      <td>0.000000</td>\n",
              "      <td>0.000000</td>\n",
              "      <td>0.000000</td>\n",
              "    </tr>\n",
              "  </tbody>\n",
              "</table>\n",
              "</div>"
            ],
            "text/plain": [
              "   mean_fit_time  std_fit_time  ...  mean_train_score  std_train_score\n",
              "0       0.003100      0.000966  ...          0.918952         0.023938\n",
              "1       0.002395      0.000338  ...          0.911272         0.028873\n",
              "2       0.001963      0.000004  ...          0.000000         0.000000\n",
              "3       0.001989      0.000045  ...          0.000000         0.000000\n",
              "4       0.002467      0.000201  ...          0.000000         0.000000\n",
              "\n",
              "[5 rows x 17 columns]"
            ]
          },
          "metadata": {
            "tags": []
          },
          "execution_count": 53
        }
      ]
    },
    {
      "cell_type": "code",
      "metadata": {
        "id": "_EsoNLOaH2LB",
        "outputId": "2634232c-c895-49e1-9b61-0f726f7cae69",
        "colab": {
          "base_uri": "https://localhost:8080/"
        }
      },
      "source": [
        "# plot\n",
        "cv_results['param_alpha'] = cv_results['param_alpha'].astype('float32')\n",
        "plt.plot(cv_results['param_alpha'], cv_results['mean_train_score'])\n",
        "plt.plot(cv_results['param_alpha'], cv_results['mean_test_score'])\n",
        "plt.xlabel('alpha')\n",
        "plt.ylabel('r2 score')\n",
        "plt.xscale('log')\n",
        "plt.show()"
      ],
      "execution_count": null,
      "outputs": [
        {
          "output_type": "display_data",
          "data": {
            "image/png": "[encoded data removed]",
            "text/plain": [
              "<Figure size 432x288 with 1 Axes>"
            ]
          },
          "metadata": {
            "tags": [],
            "needs_background": "light"
          }
        }
      ]
    },
    {
      "cell_type": "code",
      "metadata": {
        "id": "qpgdIDAHIBmn",
        "outputId": "01c60f70-7fd0-4036-d277-e0a48b65aced",
        "colab": {
          "base_uri": "https://localhost:8080/"
        }
      },
      "source": [
        "model_cv.best_params_"
      ],
      "execution_count": null,
      "outputs": [
        {
          "output_type": "execute_result",
          "data": {
            "text/plain": [
              "{'alpha': 0.01}"
            ]
          },
          "metadata": {
            "tags": []
          },
          "execution_count": 55
        }
      ]
    },
    {
      "cell_type": "code",
      "metadata": {
        "id": "hVgNHHdBISFX",
        "outputId": "5bcd1151-41d8-4db3-9a71-62b460d0199e",
        "colab": {
          "base_uri": "https://localhost:8080/"
        }
      },
      "source": [
        "model_cv.best_estimator_"
      ],
      "execution_count": null,
      "outputs": [
        {
          "output_type": "execute_result",
          "data": {
            "text/plain": [
              "Lasso(alpha=0.01, copy_X=True, fit_intercept=True, max_iter=1000,\n",
              "      normalize=False, positive=False, precompute=False, random_state=42,\n",
              "      selection='cyclic', tol=0.0001, warm_start=False)"
            ]
          },
          "metadata": {
            "tags": []
          },
          "execution_count": 56
        }
      ]
    },
    {
      "cell_type": "code",
      "metadata": {
        "id": "QgZ35oTfJGHT",
        "outputId": "007f36cf-8fc3-4ef4-c42e-366011ed4020",
        "colab": {
          "base_uri": "https://localhost:8080/"
        }
      },
      "source": [
        "model_cv.best_score_"
      ],
      "execution_count": null,
      "outputs": [
        {
          "output_type": "execute_result",
          "data": {
            "text/plain": [
              "0.6806289211579332"
            ]
          },
          "metadata": {
            "tags": []
          },
          "execution_count": 57
        }
      ]
    },
    {
      "cell_type": "code",
      "metadata": {
        "id": "aUFFJNRnIbly",
        "outputId": "f0a57ec9-838a-4842-845f-25e2ac7a60c5",
        "colab": {
          "base_uri": "https://localhost:8080/"
        }
      },
      "source": [
        "# model with optimal alpha\n",
        "# lasso regression\n",
        "lm = Lasso(alpha=0.01)\n",
        "lm.fit(X_train, y_train)\n",
        "\n",
        "# predict\n",
        "y_train_pred = lm.predict(X_train)\n",
        "print(r2_score(y_true=y_train, y_pred=y_train_pred))"
      ],
      "execution_count": null,
      "outputs": [
        {
          "output_type": "stream",
          "text": [
            "0.8900188612780613\n"
          ],
          "name": "stdout"
        }
      ]
    },
    {
      "cell_type": "markdown",
      "metadata": {
        "id": "UAdHfjumUR6G"
      },
      "source": [
        "Here we get $R^2$ score of 0.89 on training side with optimal model using `GridSearchCV`"
      ]
    },
    {
      "cell_type": "code",
      "metadata": {
        "id": "5lCXti9aJnkZ"
      },
      "source": [
        "# lasso model parameters\n",
        "model_parameters = list(lm.coef_)\n",
        "model_parameters.insert(0, lm.intercept_)\n",
        "model_parameters = [round(x, 3) for x in model_parameters]\n",
        "features = X_train.columns\n",
        "features = features.insert(0, \"constant\")\n",
        "model_param = pd.DataFrame([features, model_parameters])"
      ],
      "execution_count": null,
      "outputs": []
    },
    {
      "cell_type": "markdown",
      "metadata": {
        "id": "mWIIthWHVBvt"
      },
      "source": [
        "Summary of the model parameters:"
      ]
    },
    {
      "cell_type": "code",
      "metadata": {
        "id": "OuN7CNqNKHbJ",
        "outputId": "3f754916-c6b6-4446-c446-5d4bd18f6f91",
        "colab": {
          "base_uri": "https://localhost:8080/"
        }
      },
      "source": [
        "model_param = model_param.T\n",
        "model_param.columns = ['Features', 'parameter']\n",
        "model_param.set_index('Features')"
      ],
      "execution_count": null,
      "outputs": [
        {
          "output_type": "execute_result",
          "data": {
            "text/html": [
              "<div>\n",
              "<style scoped>\n",
              "    .dataframe tbody tr th:only-of-type {\n",
              "        vertical-align: middle;\n",
              "    }\n",
              "\n",
              "    .dataframe tbody tr th {\n",
              "        vertical-align: top;\n",
              "    }\n",
              "\n",
              "    .dataframe thead th {\n",
              "        text-align: right;\n",
              "    }\n",
              "</style>\n",
              "<table border=\"1\" class=\"dataframe\">\n",
              "  <thead>\n",
              "    <tr style=\"text-align: right;\">\n",
              "      <th></th>\n",
              "      <th>parameter</th>\n",
              "    </tr>\n",
              "    <tr>\n",
              "      <th>Features</th>\n",
              "      <th></th>\n",
              "    </tr>\n",
              "  </thead>\n",
              "  <tbody>\n",
              "    <tr>\n",
              "      <th>constant</th>\n",
              "      <td>-0</td>\n",
              "    </tr>\n",
              "    <tr>\n",
              "      <th>income_per_person_gdppercapita_ppp_inflation_adjusted</th>\n",
              "      <td>0.325</td>\n",
              "    </tr>\n",
              "    <tr>\n",
              "      <th>forest_coverage_percent</th>\n",
              "      <td>-0.103</td>\n",
              "    </tr>\n",
              "    <tr>\n",
              "      <th>industry_percent_of_gdp</th>\n",
              "      <td>0.324</td>\n",
              "    </tr>\n",
              "    <tr>\n",
              "      <th>coal_consumption_per_cap</th>\n",
              "      <td>0.243</td>\n",
              "    </tr>\n",
              "    <tr>\n",
              "      <th>electricity_use_per_person</th>\n",
              "      <td>0.327</td>\n",
              "    </tr>\n",
              "    <tr>\n",
              "      <th>oil_consumption_per_cap</th>\n",
              "      <td>0.132</td>\n",
              "    </tr>\n",
              "    <tr>\n",
              "      <th>electricity_generation_per_person</th>\n",
              "      <td>0</td>\n",
              "    </tr>\n",
              "    <tr>\n",
              "      <th>yearly_co2_emissions_1000_tonnes</th>\n",
              "      <td>0.028</td>\n",
              "    </tr>\n",
              "    <tr>\n",
              "      <th>market_value_of_listed_companies_percent_of_gdp</th>\n",
              "      <td>-0.023</td>\n",
              "    </tr>\n",
              "    <tr>\n",
              "      <th>exports_percent_of_gdp</th>\n",
              "      <td>0</td>\n",
              "    </tr>\n",
              "    <tr>\n",
              "      <th>imports_percent_of_gdp</th>\n",
              "      <td>-0.063</td>\n",
              "    </tr>\n",
              "    <tr>\n",
              "      <th>eg_use_comm_cl_zs</th>\n",
              "      <td>-0.153</td>\n",
              "    </tr>\n",
              "    <tr>\n",
              "      <th>population_total</th>\n",
              "      <td>-0.054</td>\n",
              "    </tr>\n",
              "  </tbody>\n",
              "</table>\n",
              "</div>"
            ],
            "text/plain": [
              "                                                   parameter\n",
              "Features                                                    \n",
              "constant                                                  -0\n",
              "income_per_person_gdppercapita_ppp_inflation_ad...     0.325\n",
              "forest_coverage_percent                               -0.103\n",
              "industry_percent_of_gdp                                0.324\n",
              "coal_consumption_per_cap                               0.243\n",
              "electricity_use_per_person                             0.327\n",
              "oil_consumption_per_cap                                0.132\n",
              "electricity_generation_per_person                          0\n",
              "yearly_co2_emissions_1000_tonnes                       0.028\n",
              "market_value_of_listed_companies_percent_of_gdp       -0.023\n",
              "exports_percent_of_gdp                                     0\n",
              "imports_percent_of_gdp                                -0.063\n",
              "eg_use_comm_cl_zs                                     -0.153\n",
              "population_total                                      -0.054"
            ]
          },
          "metadata": {
            "tags": []
          },
          "execution_count": 60
        }
      ]
    },
    {
      "cell_type": "markdown",
      "metadata": {
        "id": "zlxbLiHMZpSn"
      },
      "source": [
        "##### Collinearity Checking Using `VIF` for Optimal Model"
      ]
    },
    {
      "cell_type": "code",
      "metadata": {
        "id": "OOVSloTmKIU7"
      },
      "source": [
        "X_train = X_train.drop(['electricity_generation_per_person', 'exports_percent_of_gdp'], axis= 1)\n"
      ],
      "execution_count": null,
      "outputs": []
    },
    {
      "cell_type": "markdown",
      "metadata": {
        "id": "O6D0bbf1WE2a"
      },
      "source": [
        "Now lets check multi-collinearity between features. To check that we use  `variance_inflation_factor` from `statsmodels`."
      ]
    },
    {
      "cell_type": "code",
      "metadata": {
        "id": "_rkYH9VafMSQ",
        "outputId": "20a1a55a-9f77-45e7-c33f-80d688c7fdfd",
        "colab": {
          "base_uri": "https://localhost:8080/"
        }
      },
      "source": [
        "X_train.columns"
      ],
      "execution_count": null,
      "outputs": [
        {
          "output_type": "execute_result",
          "data": {
            "text/plain": [
              "Index(['income_per_person_gdppercapita_ppp_inflation_adjusted',\n",
              "       'forest_coverage_percent', 'industry_percent_of_gdp',\n",
              "       'coal_consumption_per_cap', 'electricity_use_per_person',\n",
              "       'oil_consumption_per_cap', 'yearly_co2_emissions_1000_tonnes',\n",
              "       'market_value_of_listed_companies_percent_of_gdp',\n",
              "       'imports_percent_of_gdp', 'eg_use_comm_cl_zs', 'population_total'],\n",
              "      dtype='object')"
            ]
          },
          "metadata": {
            "tags": []
          },
          "execution_count": 62
        }
      ]
    },
    {
      "cell_type": "code",
      "metadata": {
        "id": "mguwCyMEV_wM",
        "outputId": "6cf0260b-bbcf-410f-9af8-fdf68e2f6dd1",
        "colab": {
          "base_uri": "https://localhost:8080/"
        }
      },
      "source": [
        "from statsmodels.stats.outliers_influence import variance_inflation_factor\n",
        "# checking VIF\n",
        "vif = pd.DataFrame()\n",
        "vif[\"features\"] = X_train.columns\n",
        "vif[\"VIF\"] = [variance_inflation_factor(X_train.values,i) for i in range(X_train.shape[1])]\n",
        "vif[\"VIF\"] = round(vif[\"VIF\"],2)\n",
        "vif = vif.sort_values(by=\"VIF\",ascending=False)\n",
        "vif"
      ],
      "execution_count": null,
      "outputs": [
        {
          "output_type": "execute_result",
          "data": {
            "text/html": [
              "<div>\n",
              "<style scoped>\n",
              "    .dataframe tbody tr th:only-of-type {\n",
              "        vertical-align: middle;\n",
              "    }\n",
              "\n",
              "    .dataframe tbody tr th {\n",
              "        vertical-align: top;\n",
              "    }\n",
              "\n",
              "    .dataframe thead th {\n",
              "        text-align: right;\n",
              "    }\n",
              "</style>\n",
              "<table border=\"1\" class=\"dataframe\">\n",
              "  <thead>\n",
              "    <tr style=\"text-align: right;\">\n",
              "      <th></th>\n",
              "      <th>features</th>\n",
              "      <th>VIF</th>\n",
              "    </tr>\n",
              "  </thead>\n",
              "  <tbody>\n",
              "    <tr>\n",
              "      <th>0</th>\n",
              "      <td>income_per_person_gdppercapita_ppp_inflation_a...</td>\n",
              "      <td>7.09</td>\n",
              "    </tr>\n",
              "    <tr>\n",
              "      <th>4</th>\n",
              "      <td>electricity_use_per_person</td>\n",
              "      <td>6.78</td>\n",
              "    </tr>\n",
              "    <tr>\n",
              "      <th>5</th>\n",
              "      <td>oil_consumption_per_cap</td>\n",
              "      <td>4.93</td>\n",
              "    </tr>\n",
              "    <tr>\n",
              "      <th>6</th>\n",
              "      <td>yearly_co2_emissions_1000_tonnes</td>\n",
              "      <td>3.51</td>\n",
              "    </tr>\n",
              "    <tr>\n",
              "      <th>10</th>\n",
              "      <td>population_total</td>\n",
              "      <td>3.19</td>\n",
              "    </tr>\n",
              "    <tr>\n",
              "      <th>9</th>\n",
              "      <td>eg_use_comm_cl_zs</td>\n",
              "      <td>2.29</td>\n",
              "    </tr>\n",
              "    <tr>\n",
              "      <th>3</th>\n",
              "      <td>coal_consumption_per_cap</td>\n",
              "      <td>1.82</td>\n",
              "    </tr>\n",
              "    <tr>\n",
              "      <th>8</th>\n",
              "      <td>imports_percent_of_gdp</td>\n",
              "      <td>1.64</td>\n",
              "    </tr>\n",
              "    <tr>\n",
              "      <th>2</th>\n",
              "      <td>industry_percent_of_gdp</td>\n",
              "      <td>1.54</td>\n",
              "    </tr>\n",
              "    <tr>\n",
              "      <th>7</th>\n",
              "      <td>market_value_of_listed_companies_percent_of_gdp</td>\n",
              "      <td>1.38</td>\n",
              "    </tr>\n",
              "    <tr>\n",
              "      <th>1</th>\n",
              "      <td>forest_coverage_percent</td>\n",
              "      <td>1.37</td>\n",
              "    </tr>\n",
              "  </tbody>\n",
              "</table>\n",
              "</div>"
            ],
            "text/plain": [
              "                                             features   VIF\n",
              "0   income_per_person_gdppercapita_ppp_inflation_a...  7.09\n",
              "4                          electricity_use_per_person  6.78\n",
              "5                             oil_consumption_per_cap  4.93\n",
              "6                    yearly_co2_emissions_1000_tonnes  3.51\n",
              "10                                   population_total  3.19\n",
              "9                                   eg_use_comm_cl_zs  2.29\n",
              "3                            coal_consumption_per_cap  1.82\n",
              "8                              imports_percent_of_gdp  1.64\n",
              "2                             industry_percent_of_gdp  1.54\n",
              "7     market_value_of_listed_companies_percent_of_gdp  1.38\n",
              "1                             forest_coverage_percent  1.37"
            ]
          },
          "metadata": {
            "tags": []
          },
          "execution_count": 63
        }
      ]
    },
    {
      "cell_type": "markdown",
      "metadata": {
        "id": "EeVoVevXacH-"
      },
      "source": [
        "As general rule of thumb for optimal value of `VIF` should be less than 5. We can notice that top two are violating this norm so we can't rely on the parameter value significantly. We need to remove one by one from it and check again for vif ."
      ]
    },
    {
      "cell_type": "code",
      "metadata": {
        "id": "umUg60mmV_se"
      },
      "source": [
        "# drop the first feature and again tune the model and check for VIF\n",
        "X_train = X_train.drop('income_per_person_gdppercapita_ppp_inflation_adjusted',axis=1)"
      ],
      "execution_count": null,
      "outputs": []
    },
    {
      "cell_type": "code",
      "metadata": {
        "id": "gP0OincffjuN",
        "outputId": "1643273c-db1c-4032-e2af-b73df5d0f363",
        "colab": {
          "base_uri": "https://localhost:8080/"
        }
      },
      "source": [
        "X_train.columns"
      ],
      "execution_count": null,
      "outputs": [
        {
          "output_type": "execute_result",
          "data": {
            "text/plain": [
              "Index(['forest_coverage_percent', 'industry_percent_of_gdp',\n",
              "       'coal_consumption_per_cap', 'electricity_use_per_person',\n",
              "       'oil_consumption_per_cap', 'yearly_co2_emissions_1000_tonnes',\n",
              "       'market_value_of_listed_companies_percent_of_gdp',\n",
              "       'imports_percent_of_gdp', 'eg_use_comm_cl_zs', 'population_total'],\n",
              "      dtype='object')"
            ]
          },
          "metadata": {
            "tags": []
          },
          "execution_count": 65
        }
      ]
    },
    {
      "cell_type": "code",
      "metadata": {
        "id": "925CkQJlV_nn",
        "outputId": "8d5dbd2c-be01-4aa1-9919-b4545b5d31eb",
        "colab": {
          "base_uri": "https://localhost:8080/"
        }
      },
      "source": [
        "# using 3 folds \n",
        "\n",
        "folds = KFold(n_splits=3, shuffle=True, random_state=42)\n",
        "\n",
        "params = {\"alpha\": [0.0001, 0.001,0.01,0.1,1.0,5.0,10.0]}\n",
        "\n",
        "model = Lasso(random_state=42)\n",
        "\n",
        "model_cv = GridSearchCV(estimator=model, param_grid = params, scoring=\"r2\", \n",
        "                        cv=folds, n_jobs=-1, verbose=1, \n",
        "                        return_train_score=True,)\n",
        "\n",
        "model_cv.fit(X_train, y_train)"
      ],
      "execution_count": null,
      "outputs": [
        {
          "output_type": "stream",
          "text": [
            "Fitting 3 folds for each of 7 candidates, totalling 21 fits\n"
          ],
          "name": "stdout"
        },
        {
          "output_type": "stream",
          "text": [
            "[Parallel(n_jobs=-1)]: Using backend LokyBackend with 2 concurrent workers.\n",
            "[Parallel(n_jobs=-1)]: Done  21 out of  21 | elapsed:    1.5s finished\n"
          ],
          "name": "stderr"
        },
        {
          "output_type": "execute_result",
          "data": {
            "text/plain": [
              "GridSearchCV(cv=KFold(n_splits=3, random_state=42, shuffle=True),\n",
              "             error_score=nan,\n",
              "             estimator=Lasso(alpha=1.0, copy_X=True, fit_intercept=True,\n",
              "                             max_iter=1000, normalize=False, positive=False,\n",
              "                             precompute=False, random_state=42,\n",
              "                             selection='cyclic', tol=0.0001, warm_start=False),\n",
              "             iid='deprecated', n_jobs=-1,\n",
              "             param_grid={'alpha': [0.0001, 0.001, 0.01, 0.1, 1.0, 5.0, 10.0]},\n",
              "             pre_dispatch='2*n_jobs', refit=True, return_train_score=True,\n",
              "             scoring='r2', verbose=1)"
            ]
          },
          "metadata": {
            "tags": []
          },
          "execution_count": 66
        }
      ]
    },
    {
      "cell_type": "code",
      "metadata": {
        "id": "8q2_pHTNV_kE",
        "outputId": "031bd4dc-375b-4482-92e9-76cc861ae3fd",
        "colab": {
          "base_uri": "https://localhost:8080/"
        }
      },
      "source": [
        "cv_results = pd.DataFrame(model_cv.cv_results_)\n",
        "cv_results.head()"
      ],
      "execution_count": null,
      "outputs": [
        {
          "output_type": "execute_result",
          "data": {
            "text/html": [
              "<div>\n",
              "<style scoped>\n",
              "    .dataframe tbody tr th:only-of-type {\n",
              "        vertical-align: middle;\n",
              "    }\n",
              "\n",
              "    .dataframe tbody tr th {\n",
              "        vertical-align: top;\n",
              "    }\n",
              "\n",
              "    .dataframe thead th {\n",
              "        text-align: right;\n",
              "    }\n",
              "</style>\n",
              "<table border=\"1\" class=\"dataframe\">\n",
              "  <thead>\n",
              "    <tr style=\"text-align: right;\">\n",
              "      <th></th>\n",
              "      <th>mean_fit_time</th>\n",
              "      <th>std_fit_time</th>\n",
              "      <th>mean_score_time</th>\n",
              "      <th>std_score_time</th>\n",
              "      <th>param_alpha</th>\n",
              "      <th>params</th>\n",
              "      <th>split0_test_score</th>\n",
              "      <th>split1_test_score</th>\n",
              "      <th>split2_test_score</th>\n",
              "      <th>mean_test_score</th>\n",
              "      <th>std_test_score</th>\n",
              "      <th>rank_test_score</th>\n",
              "      <th>split0_train_score</th>\n",
              "      <th>split1_train_score</th>\n",
              "      <th>split2_train_score</th>\n",
              "      <th>mean_train_score</th>\n",
              "      <th>std_train_score</th>\n",
              "    </tr>\n",
              "  </thead>\n",
              "  <tbody>\n",
              "    <tr>\n",
              "      <th>0</th>\n",
              "      <td>0.005356</td>\n",
              "      <td>0.001638</td>\n",
              "      <td>0.001688</td>\n",
              "      <td>0.000172</td>\n",
              "      <td>0.0001</td>\n",
              "      <td>{'alpha': 0.0001}</td>\n",
              "      <td>0.490559</td>\n",
              "      <td>0.701319</td>\n",
              "      <td>0.757873</td>\n",
              "      <td>0.649917</td>\n",
              "      <td>0.115024</td>\n",
              "      <td>4</td>\n",
              "      <td>0.929454</td>\n",
              "      <td>0.898256</td>\n",
              "      <td>0.869866</td>\n",
              "      <td>0.899192</td>\n",
              "      <td>0.024336</td>\n",
              "    </tr>\n",
              "    <tr>\n",
              "      <th>1</th>\n",
              "      <td>0.003702</td>\n",
              "      <td>0.000051</td>\n",
              "      <td>0.001365</td>\n",
              "      <td>0.000058</td>\n",
              "      <td>0.001</td>\n",
              "      <td>{'alpha': 0.001}</td>\n",
              "      <td>0.490949</td>\n",
              "      <td>0.704012</td>\n",
              "      <td>0.764164</td>\n",
              "      <td>0.653041</td>\n",
              "      <td>0.117218</td>\n",
              "      <td>3</td>\n",
              "      <td>0.929445</td>\n",
              "      <td>0.898240</td>\n",
              "      <td>0.869819</td>\n",
              "      <td>0.899168</td>\n",
              "      <td>0.024351</td>\n",
              "    </tr>\n",
              "    <tr>\n",
              "      <th>2</th>\n",
              "      <td>0.003645</td>\n",
              "      <td>0.000086</td>\n",
              "      <td>0.001395</td>\n",
              "      <td>0.000037</td>\n",
              "      <td>0.01</td>\n",
              "      <td>{'alpha': 0.01}</td>\n",
              "      <td>0.493562</td>\n",
              "      <td>0.727791</td>\n",
              "      <td>0.803659</td>\n",
              "      <td>0.675004</td>\n",
              "      <td>0.131984</td>\n",
              "      <td>1</td>\n",
              "      <td>0.928531</td>\n",
              "      <td>0.897008</td>\n",
              "      <td>0.866014</td>\n",
              "      <td>0.897184</td>\n",
              "      <td>0.025523</td>\n",
              "    </tr>\n",
              "    <tr>\n",
              "      <th>3</th>\n",
              "      <td>0.003760</td>\n",
              "      <td>0.000077</td>\n",
              "      <td>0.001444</td>\n",
              "      <td>0.000048</td>\n",
              "      <td>0.1</td>\n",
              "      <td>{'alpha': 0.1}</td>\n",
              "      <td>0.579224</td>\n",
              "      <td>0.687149</td>\n",
              "      <td>0.712155</td>\n",
              "      <td>0.659509</td>\n",
              "      <td>0.057681</td>\n",
              "      <td>2</td>\n",
              "      <td>0.891145</td>\n",
              "      <td>0.847733</td>\n",
              "      <td>0.778735</td>\n",
              "      <td>0.839204</td>\n",
              "      <td>0.046286</td>\n",
              "    </tr>\n",
              "    <tr>\n",
              "      <th>4</th>\n",
              "      <td>0.003670</td>\n",
              "      <td>0.000039</td>\n",
              "      <td>0.001405</td>\n",
              "      <td>0.000060</td>\n",
              "      <td>1</td>\n",
              "      <td>{'alpha': 1.0}</td>\n",
              "      <td>-0.082206</td>\n",
              "      <td>-0.000236</td>\n",
              "      <td>-0.038755</td>\n",
              "      <td>-0.040399</td>\n",
              "      <td>0.033484</td>\n",
              "      <td>5</td>\n",
              "      <td>0.000000</td>\n",
              "      <td>0.000000</td>\n",
              "      <td>0.000000</td>\n",
              "      <td>0.000000</td>\n",
              "      <td>0.000000</td>\n",
              "    </tr>\n",
              "  </tbody>\n",
              "</table>\n",
              "</div>"
            ],
            "text/plain": [
              "   mean_fit_time  std_fit_time  ...  mean_train_score  std_train_score\n",
              "0       0.005356      0.001638  ...          0.899192         0.024336\n",
              "1       0.003702      0.000051  ...          0.899168         0.024351\n",
              "2       0.003645      0.000086  ...          0.897184         0.025523\n",
              "3       0.003760      0.000077  ...          0.839204         0.046286\n",
              "4       0.003670      0.000039  ...          0.000000         0.000000\n",
              "\n",
              "[5 rows x 17 columns]"
            ]
          },
          "metadata": {
            "tags": []
          },
          "execution_count": 67
        }
      ]
    },
    {
      "cell_type": "code",
      "metadata": {
        "id": "Q-PAhYZWV_fU",
        "outputId": "f01efa10-13f6-40f4-b766-d29ecb657c8d",
        "colab": {
          "base_uri": "https://localhost:8080/"
        }
      },
      "source": [
        "model_cv.best_estimator_"
      ],
      "execution_count": null,
      "outputs": [
        {
          "output_type": "execute_result",
          "data": {
            "text/plain": [
              "Lasso(alpha=0.01, copy_X=True, fit_intercept=True, max_iter=1000,\n",
              "      normalize=False, positive=False, precompute=False, random_state=42,\n",
              "      selection='cyclic', tol=0.0001, warm_start=False)"
            ]
          },
          "metadata": {
            "tags": []
          },
          "execution_count": 68
        }
      ]
    },
    {
      "cell_type": "code",
      "metadata": {
        "id": "SPuFEydgV_YC",
        "outputId": "d29c6bf5-f2b9-4b42-869f-6daedf228d36",
        "colab": {
          "base_uri": "https://localhost:8080/"
        }
      },
      "source": [
        "# plotting \n",
        "cv_results['param_alpha'] = cv_results['param_alpha'].astype('float32')\n",
        "plt.plot(cv_results['param_alpha'], cv_results['mean_train_score'])\n",
        "plt.plot(cv_results['param_alpha'], cv_results['mean_test_score'])\n",
        "plt.xlabel('alpha')\n",
        "plt.ylabel('r2 score')\n",
        "plt.xscale('log')\n",
        "plt.show()"
      ],
      "execution_count": null,
      "outputs": [
        {
          "output_type": "display_data",
          "data": {
            "image/png": "[encoded data removed]",
            "text/plain": [
              "<Figure size 432x288 with 1 Axes>"
            ]
          },
          "metadata": {
            "tags": [],
            "needs_background": "light"
          }
        }
      ]
    },
    {
      "cell_type": "code",
      "metadata": {
        "id": "55Dd8juldGti",
        "outputId": "d9e3dc0f-04ef-4151-9461-7b96bcd7bef0",
        "colab": {
          "base_uri": "https://localhost:8080/"
        }
      },
      "source": [
        "model_cv.best_params_"
      ],
      "execution_count": null,
      "outputs": [
        {
          "output_type": "execute_result",
          "data": {
            "text/plain": [
              "{'alpha': 0.01}"
            ]
          },
          "metadata": {
            "tags": []
          },
          "execution_count": 70
        }
      ]
    },
    {
      "cell_type": "code",
      "metadata": {
        "id": "Y8LNoxokSCLV",
        "outputId": "fe2abd18-d2cf-4474-d30e-acd703a4b5ee",
        "colab": {
          "base_uri": "https://localhost:8080/"
        }
      },
      "source": [
        "# build model using alpha = 0.01\n",
        "\n",
        "lm = Lasso(alpha=0.01, random_state=42)\n",
        "lm.fit(X_train,y_train)"
      ],
      "execution_count": null,
      "outputs": [
        {
          "output_type": "execute_result",
          "data": {
            "text/plain": [
              "Lasso(alpha=0.01, copy_X=True, fit_intercept=True, max_iter=1000,\n",
              "      normalize=False, positive=False, precompute=False, random_state=42,\n",
              "      selection='cyclic', tol=0.0001, warm_start=False)"
            ]
          },
          "metadata": {
            "tags": []
          },
          "execution_count": 71
        }
      ]
    },
    {
      "cell_type": "code",
      "metadata": {
        "id": "mA0Dh3XeSmr8",
        "outputId": "1ccabbec-f8bc-45c1-c46b-70033ed7c76b",
        "colab": {
          "base_uri": "https://localhost:8080/"
        }
      },
      "source": [
        "y_train_pred = lm.predict(X_train)\n",
        "r2_score(y_train, y_train_pred)"
      ],
      "execution_count": null,
      "outputs": [
        {
          "output_type": "execute_result",
          "data": {
            "text/plain": [
              "0.8745185983918033"
            ]
          },
          "metadata": {
            "tags": []
          },
          "execution_count": 72
        }
      ]
    },
    {
      "cell_type": "code",
      "metadata": {
        "id": "jYLD7C2HdxVl"
      },
      "source": [
        "# lasso model parameters\n",
        "model_parameters = list(lm.coef_)\n",
        "model_parameters.insert(0, lm.intercept_)\n",
        "model_parameters = [round(x, 3) for x in model_parameters]\n",
        "features = X_train.columns\n",
        "features = features.insert(0, \"constant\")\n",
        "model_param = pd.DataFrame([features, model_parameters])"
      ],
      "execution_count": null,
      "outputs": []
    },
    {
      "cell_type": "code",
      "metadata": {
        "id": "1-vErgzRdxVz",
        "outputId": "fac0ac35-d7ef-4c5c-86c5-ce28a9a72ac6",
        "colab": {
          "base_uri": "https://localhost:8080/"
        }
      },
      "source": [
        "model_param = model_param.T\n",
        "model_param.columns = ['Features', 'parameter']\n",
        "model_param.set_index('Features')"
      ],
      "execution_count": null,
      "outputs": [
        {
          "output_type": "execute_result",
          "data": {
            "text/html": [
              "<div>\n",
              "<style scoped>\n",
              "    .dataframe tbody tr th:only-of-type {\n",
              "        vertical-align: middle;\n",
              "    }\n",
              "\n",
              "    .dataframe tbody tr th {\n",
              "        vertical-align: top;\n",
              "    }\n",
              "\n",
              "    .dataframe thead th {\n",
              "        text-align: right;\n",
              "    }\n",
              "</style>\n",
              "<table border=\"1\" class=\"dataframe\">\n",
              "  <thead>\n",
              "    <tr style=\"text-align: right;\">\n",
              "      <th></th>\n",
              "      <th>parameter</th>\n",
              "    </tr>\n",
              "    <tr>\n",
              "      <th>Features</th>\n",
              "      <th></th>\n",
              "    </tr>\n",
              "  </thead>\n",
              "  <tbody>\n",
              "    <tr>\n",
              "      <th>constant</th>\n",
              "      <td>-0</td>\n",
              "    </tr>\n",
              "    <tr>\n",
              "      <th>forest_coverage_percent</th>\n",
              "      <td>-0.148</td>\n",
              "    </tr>\n",
              "    <tr>\n",
              "      <th>industry_percent_of_gdp</th>\n",
              "      <td>0.32</td>\n",
              "    </tr>\n",
              "    <tr>\n",
              "      <th>coal_consumption_per_cap</th>\n",
              "      <td>0.209</td>\n",
              "    </tr>\n",
              "    <tr>\n",
              "      <th>electricity_use_per_person</th>\n",
              "      <td>0.524</td>\n",
              "    </tr>\n",
              "    <tr>\n",
              "      <th>oil_consumption_per_cap</th>\n",
              "      <td>0.239</td>\n",
              "    </tr>\n",
              "    <tr>\n",
              "      <th>yearly_co2_emissions_1000_tonnes</th>\n",
              "      <td>0.044</td>\n",
              "    </tr>\n",
              "    <tr>\n",
              "      <th>market_value_of_listed_companies_percent_of_gdp</th>\n",
              "      <td>-0.004</td>\n",
              "    </tr>\n",
              "    <tr>\n",
              "      <th>imports_percent_of_gdp</th>\n",
              "      <td>-0.031</td>\n",
              "    </tr>\n",
              "    <tr>\n",
              "      <th>eg_use_comm_cl_zs</th>\n",
              "      <td>-0.147</td>\n",
              "    </tr>\n",
              "    <tr>\n",
              "      <th>population_total</th>\n",
              "      <td>-0.079</td>\n",
              "    </tr>\n",
              "  </tbody>\n",
              "</table>\n",
              "</div>"
            ],
            "text/plain": [
              "                                                parameter\n",
              "Features                                                 \n",
              "constant                                               -0\n",
              "forest_coverage_percent                            -0.148\n",
              "industry_percent_of_gdp                              0.32\n",
              "coal_consumption_per_cap                            0.209\n",
              "electricity_use_per_person                          0.524\n",
              "oil_consumption_per_cap                             0.239\n",
              "yearly_co2_emissions_1000_tonnes                    0.044\n",
              "market_value_of_listed_companies_percent_of_gdp    -0.004\n",
              "imports_percent_of_gdp                             -0.031\n",
              "eg_use_comm_cl_zs                                  -0.147\n",
              "population_total                                   -0.079"
            ]
          },
          "metadata": {
            "tags": []
          },
          "execution_count": 74
        }
      ]
    },
    {
      "cell_type": "code",
      "metadata": {
        "id": "zYcuT50ggTEl",
        "outputId": "ccde2d28-0476-4f48-8b07-d7c73133956e",
        "colab": {
          "base_uri": "https://localhost:8080/"
        }
      },
      "source": [
        "# checking VIF\n",
        "vif = pd.DataFrame()\n",
        "vif[\"features\"] = X_train.columns\n",
        "vif[\"VIF\"] = [variance_inflation_factor(X_train.values,i) for i in range(X_train.shape[1])]\n",
        "vif[\"VIF\"] = round(vif[\"VIF\"],2)\n",
        "vif = vif.sort_values(by=\"VIF\",ascending=False)\n",
        "vif"
      ],
      "execution_count": null,
      "outputs": [
        {
          "output_type": "execute_result",
          "data": {
            "text/html": [
              "<div>\n",
              "<style scoped>\n",
              "    .dataframe tbody tr th:only-of-type {\n",
              "        vertical-align: middle;\n",
              "    }\n",
              "\n",
              "    .dataframe tbody tr th {\n",
              "        vertical-align: top;\n",
              "    }\n",
              "\n",
              "    .dataframe thead th {\n",
              "        text-align: right;\n",
              "    }\n",
              "</style>\n",
              "<table border=\"1\" class=\"dataframe\">\n",
              "  <thead>\n",
              "    <tr style=\"text-align: right;\">\n",
              "      <th></th>\n",
              "      <th>features</th>\n",
              "      <th>VIF</th>\n",
              "    </tr>\n",
              "  </thead>\n",
              "  <tbody>\n",
              "    <tr>\n",
              "      <th>3</th>\n",
              "      <td>electricity_use_per_person</td>\n",
              "      <td>4.19</td>\n",
              "    </tr>\n",
              "    <tr>\n",
              "      <th>4</th>\n",
              "      <td>oil_consumption_per_cap</td>\n",
              "      <td>4.17</td>\n",
              "    </tr>\n",
              "    <tr>\n",
              "      <th>5</th>\n",
              "      <td>yearly_co2_emissions_1000_tonnes</td>\n",
              "      <td>3.49</td>\n",
              "    </tr>\n",
              "    <tr>\n",
              "      <th>9</th>\n",
              "      <td>population_total</td>\n",
              "      <td>3.14</td>\n",
              "    </tr>\n",
              "    <tr>\n",
              "      <th>8</th>\n",
              "      <td>eg_use_comm_cl_zs</td>\n",
              "      <td>2.28</td>\n",
              "    </tr>\n",
              "    <tr>\n",
              "      <th>2</th>\n",
              "      <td>coal_consumption_per_cap</td>\n",
              "      <td>1.75</td>\n",
              "    </tr>\n",
              "    <tr>\n",
              "      <th>7</th>\n",
              "      <td>imports_percent_of_gdp</td>\n",
              "      <td>1.57</td>\n",
              "    </tr>\n",
              "    <tr>\n",
              "      <th>1</th>\n",
              "      <td>industry_percent_of_gdp</td>\n",
              "      <td>1.54</td>\n",
              "    </tr>\n",
              "    <tr>\n",
              "      <th>6</th>\n",
              "      <td>market_value_of_listed_companies_percent_of_gdp</td>\n",
              "      <td>1.36</td>\n",
              "    </tr>\n",
              "    <tr>\n",
              "      <th>0</th>\n",
              "      <td>forest_coverage_percent</td>\n",
              "      <td>1.23</td>\n",
              "    </tr>\n",
              "  </tbody>\n",
              "</table>\n",
              "</div>"
            ],
            "text/plain": [
              "                                          features   VIF\n",
              "3                       electricity_use_per_person  4.19\n",
              "4                          oil_consumption_per_cap  4.17\n",
              "5                 yearly_co2_emissions_1000_tonnes  3.49\n",
              "9                                 population_total  3.14\n",
              "8                                eg_use_comm_cl_zs  2.28\n",
              "2                         coal_consumption_per_cap  1.75\n",
              "7                           imports_percent_of_gdp  1.57\n",
              "1                          industry_percent_of_gdp  1.54\n",
              "6  market_value_of_listed_companies_percent_of_gdp  1.36\n",
              "0                          forest_coverage_percent  1.23"
            ]
          },
          "metadata": {
            "tags": []
          },
          "execution_count": 75
        }
      ]
    },
    {
      "cell_type": "markdown",
      "metadata": {
        "id": "GPtASPGUgYlP"
      },
      "source": [
        "Now all the features are under the assumed threshold value of `VIF` which is 5. So we can say that this model is optimal one."
      ]
    },
    {
      "cell_type": "markdown",
      "metadata": {
        "id": "Y7uO0cZnMZZT"
      },
      "source": [
        "### Validation of Linear models Assumptions"
      ]
    },
    {
      "cell_type": "markdown",
      "metadata": {
        "id": "HUsP7mKCMvy1"
      },
      "source": [
        "#### Normality Assumption: \n",
        "In this we do check whether or not error of the model is normaly distributed.  To visually check that we often plot qqplot of the residual."
      ]
    },
    {
      "cell_type": "code",
      "metadata": {
        "id": "8IqTCx0AMog5"
      },
      "source": [
        "residual = y_train_pred - y_train"
      ],
      "execution_count": null,
      "outputs": []
    },
    {
      "cell_type": "code",
      "metadata": {
        "id": "iH0N52IIhb-s",
        "outputId": "3b847652-5fc4-42b7-e035-9582695113d1",
        "colab": {
          "base_uri": "https://localhost:8080/"
        }
      },
      "source": [
        "import statsmodels.api as sm\n",
        "# qq plot\n",
        "sm.qqplot(residual,line=\"q\")\n",
        "plt.show()"
      ],
      "execution_count": null,
      "outputs": [
        {
          "output_type": "display_data",
          "data": {
            "image/png": "[encoded data removed]",
            "text/plain": [
              "<Figure size 432x288 with 1 Axes>"
            ]
          },
          "metadata": {
            "tags": [],
            "needs_background": "light"
          }
        }
      ]
    },
    {
      "cell_type": "markdown",
      "metadata": {
        "id": "DFVSmd58h0FU"
      },
      "source": [
        "Most of the residual values reside on the theoretical quantiles value so we can say that error are normally distributed with flat tail side on both side."
      ]
    },
    {
      "cell_type": "markdown",
      "metadata": {
        "id": "xrwmgxyRiTsW"
      },
      "source": [
        "#### Independent Errors Assumptions  "
      ]
    },
    {
      "cell_type": "code",
      "metadata": {
        "id": "d7wmRVOuQB4Q",
        "outputId": "4b29dd17-33bb-40eb-d593-a6a7b9a1c4ce",
        "colab": {
          "base_uri": "https://localhost:8080/"
        }
      },
      "source": [
        "sns.residplot(y_train_pred, residual, color=\"g\")"
      ],
      "execution_count": null,
      "outputs": [
        {
          "output_type": "execute_result",
          "data": {
            "text/plain": [
              "<matplotlib.axes._subplots.AxesSubplot at 0x7f64f452e8d0>"
            ]
          },
          "metadata": {
            "tags": []
          },
          "execution_count": 78
        },
        {
          "output_type": "display_data",
          "data": {
            "image/png": "[encoded data removed]",
            "text/plain": [
              "<Figure size 432x288 with 1 Axes>"
            ]
          },
          "metadata": {
            "tags": [],
            "needs_background": "light"
          }
        }
      ]
    },
    {
      "cell_type": "markdown",
      "metadata": {
        "id": "aPHCCyf0jDdh"
      },
      "source": [
        "We can't see any pattern in residual plot so:\n",
        "- **Independence of error terms assumption validated**  \n",
        "\n",
        "As well as variance also constant around the mean value. \n",
        "-  **Homoscedasticity i.e. constant variance assumption also validated.**"
      ]
    },
    {
      "cell_type": "markdown",
      "metadata": {
        "id": "FSwuL3zko229"
      },
      "source": [
        "##### Auto-Correlation Assumption"
      ]
    },
    {
      "cell_type": "code",
      "metadata": {
        "id": "1eFxt_t-RHTz"
      },
      "source": [
        "from statsmodels.graphics.tsaplots import plot_acf"
      ],
      "execution_count": null,
      "outputs": []
    },
    {
      "cell_type": "code",
      "metadata": {
        "id": "fSKq218vnGJ8",
        "outputId": "8229ab71-404d-4f10-926f-ea80d6d2fd20",
        "colab": {
          "base_uri": "https://localhost:8080/"
        }
      },
      "source": [
        "from statsmodels.stats.stattools import durbin_watson\n",
        "#quantitative method \n",
        "durbin_watson(residual)"
      ],
      "execution_count": null,
      "outputs": [
        {
          "output_type": "execute_result",
          "data": {
            "text/plain": [
              "1.800658475845045"
            ]
          },
          "metadata": {
            "tags": []
          },
          "execution_count": 80
        }
      ]
    },
    {
      "cell_type": "markdown",
      "metadata": {
        "id": "LZokZz-Pq29X"
      },
      "source": [
        "Since as per rule of thumb of threshold value of the above test should not be greater than 2 for any autocorrelation.   \n",
        "So **There is no auto-correlation.** "
      ]
    },
    {
      "cell_type": "code",
      "metadata": {
        "id": "x3Hg9sdmn4HJ",
        "outputId": "4a2ad0be-dafa-4f06-a59c-9694820b579f",
        "colab": {
          "base_uri": "https://localhost:8080/"
        }
      },
      "source": [
        "plot_acf(residual,)\n",
        "plt.show()"
      ],
      "execution_count": null,
      "outputs": [
        {
          "output_type": "display_data",
          "data": {
            "image/png": "[encoded data removed]",
            "text/plain": [
              "<Figure size 432x288 with 1 Axes>"
            ]
          },
          "metadata": {
            "tags": [],
            "needs_background": "light"
          }
        }
      ]
    },
    {
      "cell_type": "code",
      "metadata": {
        "id": "xC4izNIOn8Mh"
      },
      "source": [
        ""
      ],
      "execution_count": null,
      "outputs": []
    },
    {
      "cell_type": "markdown",
      "metadata": {
        "id": "SCwrEUVXtVgu"
      },
      "source": [
        "### Summary of the Project"
      ]
    },
    {
      "cell_type": "code",
      "metadata": {
        "id": "8JOXvOdntrkr",
        "outputId": "50d0b8bd-6976-4341-cf9a-c2458261358f",
        "colab": {
          "base_uri": "https://localhost:8080/"
        }
      },
      "source": [
        "model_param.sort_values('parameter', ascending=False)"
      ],
      "execution_count": null,
      "outputs": [
        {
          "output_type": "execute_result",
          "data": {
            "text/html": [
              "<div>\n",
              "<style scoped>\n",
              "    .dataframe tbody tr th:only-of-type {\n",
              "        vertical-align: middle;\n",
              "    }\n",
              "\n",
              "    .dataframe tbody tr th {\n",
              "        vertical-align: top;\n",
              "    }\n",
              "\n",
              "    .dataframe thead th {\n",
              "        text-align: right;\n",
              "    }\n",
              "</style>\n",
              "<table border=\"1\" class=\"dataframe\">\n",
              "  <thead>\n",
              "    <tr style=\"text-align: right;\">\n",
              "      <th></th>\n",
              "      <th>Features</th>\n",
              "      <th>parameter</th>\n",
              "    </tr>\n",
              "  </thead>\n",
              "  <tbody>\n",
              "    <tr>\n",
              "      <th>4</th>\n",
              "      <td>electricity_use_per_person</td>\n",
              "      <td>0.524</td>\n",
              "    </tr>\n",
              "    <tr>\n",
              "      <th>2</th>\n",
              "      <td>industry_percent_of_gdp</td>\n",
              "      <td>0.32</td>\n",
              "    </tr>\n",
              "    <tr>\n",
              "      <th>5</th>\n",
              "      <td>oil_consumption_per_cap</td>\n",
              "      <td>0.239</td>\n",
              "    </tr>\n",
              "    <tr>\n",
              "      <th>3</th>\n",
              "      <td>coal_consumption_per_cap</td>\n",
              "      <td>0.209</td>\n",
              "    </tr>\n",
              "    <tr>\n",
              "      <th>6</th>\n",
              "      <td>yearly_co2_emissions_1000_tonnes</td>\n",
              "      <td>0.044</td>\n",
              "    </tr>\n",
              "    <tr>\n",
              "      <th>0</th>\n",
              "      <td>constant</td>\n",
              "      <td>-0</td>\n",
              "    </tr>\n",
              "    <tr>\n",
              "      <th>7</th>\n",
              "      <td>market_value_of_listed_companies_percent_of_gdp</td>\n",
              "      <td>-0.004</td>\n",
              "    </tr>\n",
              "    <tr>\n",
              "      <th>8</th>\n",
              "      <td>imports_percent_of_gdp</td>\n",
              "      <td>-0.031</td>\n",
              "    </tr>\n",
              "    <tr>\n",
              "      <th>10</th>\n",
              "      <td>population_total</td>\n",
              "      <td>-0.079</td>\n",
              "    </tr>\n",
              "    <tr>\n",
              "      <th>9</th>\n",
              "      <td>eg_use_comm_cl_zs</td>\n",
              "      <td>-0.147</td>\n",
              "    </tr>\n",
              "    <tr>\n",
              "      <th>1</th>\n",
              "      <td>forest_coverage_percent</td>\n",
              "      <td>-0.148</td>\n",
              "    </tr>\n",
              "  </tbody>\n",
              "</table>\n",
              "</div>"
            ],
            "text/plain": [
              "                                           Features parameter\n",
              "4                        electricity_use_per_person     0.524\n",
              "2                           industry_percent_of_gdp      0.32\n",
              "5                           oil_consumption_per_cap     0.239\n",
              "3                          coal_consumption_per_cap     0.209\n",
              "6                  yearly_co2_emissions_1000_tonnes     0.044\n",
              "0                                          constant        -0\n",
              "7   market_value_of_listed_companies_percent_of_gdp    -0.004\n",
              "8                            imports_percent_of_gdp    -0.031\n",
              "10                                 population_total    -0.079\n",
              "9                                 eg_use_comm_cl_zs    -0.147\n",
              "1                           forest_coverage_percent    -0.148"
            ]
          },
          "metadata": {
            "tags": []
          },
          "execution_count": 93
        }
      ]
    },
    {
      "cell_type": "markdown",
      "metadata": {
        "id": "2lgAAupFzPm-"
      },
      "source": [
        "**A picture is worth a thousand words.**  \n",
        "\n",
        "\n",
        "![World electricity production by Source ,2017](https://www.world-nuclear.org/getmedia/c907634e-4bb5-4a41-970e-40b8ec55c1a6/world-electricity-production.png.aspx)"
      ]
    },
    {
      "cell_type": "markdown",
      "metadata": {
        "id": "B7MQ1Ul8zhof"
      },
      "source": [
        "As above image tells us that still we rely to attain our need of power on the source such as **Coal**, **Gas**.   \n",
        "Our model also tries to show that top most four features which are contributing to CO$_{2}$ emission.   \n",
        "Most Influential Features:\n",
        "- Electricity use per capita \n",
        "- industry percent of gdp\n",
        "- Oil cunsumption per capita\n",
        "- Coal cunsupltion per capita \n",
        "\n"
      ]
    },
    {
      "cell_type": "markdown",
      "metadata": {
        "id": "tDemjHc13o2X"
      },
      "source": [
        "- Also we can conclude that alternative and nuclear energy use and forest coverage percent help to reduce CO$_{2}$ emission because it is negatively influence model dependent variable.   \n",
        "- So we should try to attain our power need through alternative energy resources such as renewable energy sources of which most of them are clean energy sources.   \n",
        "- Also we know that forest are acts like **`Carbon Pool`**. We need to increase forest coverage percent of our total area which would helps us."
      ]
    },
    {
      "cell_type": "code",
      "metadata": {
        "id": "RLC4ovr5_cMN"
      },
      "source": [
        ""
      ],
      "execution_count": null,
      "outputs": []
    }
  ]
}